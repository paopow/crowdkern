{
 "metadata": {
  "name": ""
 },
 "nbformat": 3,
 "nbformat_minor": 0,
 "worksheets": [
  {
   "cells": [
    {
     "cell_type": "code",
     "collapsed": false,
     "input": [
      "%pylab inline\n",
      "%matplotlib inline\n",
      "%load_ext autoreload\n",
      "%autoreload 2"
     ],
     "language": "python",
     "metadata": {},
     "outputs": [
      {
       "output_type": "stream",
       "stream": "stdout",
       "text": [
        "Populating the interactive namespace from numpy and matplotlib\n",
        "The autoreload extension is already loaded. To reload it, use:\n",
        "  %reload_ext autoreload\n"
       ]
      }
     ],
     "prompt_number": 43
    },
    {
     "cell_type": "code",
     "collapsed": false,
     "input": [
      "import json\n",
      "import pickle\n",
      "import numpy as np\n",
      "import pandas as pd\n",
      "import matplotlib.pyplot as plt\n",
      "import time\n",
      "\n",
      "# set some nicer defaults for matplotlib\n",
      "from matplotlib import rcParams\n",
      "\n",
      "#these colors come from colorbrewer2.org. Each is an RGB triplet\n",
      "dark2_colors = [(0.10588235294117647, 0.6196078431372549, 0.4666666666666667),\n",
      "                (0.8509803921568627, 0.37254901960784315, 0.00784313725490196),\n",
      "                (0.4588235294117647, 0.4392156862745098, 0.7019607843137254),\n",
      "                (0.9058823529411765, 0.1607843137254902, 0.5411764705882353),\n",
      "                (0.4, 0.6509803921568628, 0.11764705882352941),\n",
      "                (0.9019607843137255, 0.6705882352941176, 0.00784313725490196),\n",
      "                (0.6509803921568628, 0.4627450980392157, 0.11372549019607843),\n",
      "                (0.4, 0.4, 0.4)]\n",
      "\n",
      "rcParams['figure.figsize'] = (10, 6)\n",
      "rcParams['figure.dpi'] = 150\n",
      "rcParams['axes.color_cycle'] = dark2_colors\n",
      "rcParams['lines.linewidth'] = 2\n",
      "rcParams['axes.grid'] = False\n",
      "rcParams['axes.facecolor'] = 'white'\n",
      "rcParams['font.size'] = 14\n",
      "rcParams['patch.edgecolor'] = 'none'\n",
      "\n",
      "def remove_border(axes=None, top=False, right=False, left=True, bottom=True):\n",
      "    \"\"\"\n",
      "    Minimize chartjunk by stripping out unnecessary plot borders and axis ticks\n",
      "    \n",
      "    The top/right/left/bottom keywords toggle whether the corresponding plot border is drawn\n",
      "    \"\"\"\n",
      "    ax = axes or plt.gca()\n",
      "    ax.spines['top'].set_visible(top)\n",
      "    ax.spines['right'].set_visible(right)\n",
      "    ax.spines['left'].set_visible(left)\n",
      "    ax.spines['bottom'].set_visible(bottom)\n",
      "    \n",
      "    #turn off all ticks\n",
      "    ax.yaxis.set_ticks_position('none')\n",
      "    ax.xaxis.set_ticks_position('none')\n",
      "    \n",
      "    #now re-enable visibles\n",
      "    if top:\n",
      "        ax.xaxis.tick_top()\n",
      "    if bottom:\n",
      "        ax.xaxis.tick_bottom()\n",
      "    if left:\n",
      "        ax.yaxis.tick_left()\n",
      "    if right:\n",
      "        ax.yaxis.tick_right()"
     ],
     "language": "python",
     "metadata": {},
     "outputs": [],
     "prompt_number": 44
    },
    {
     "cell_type": "code",
     "collapsed": false,
     "input": [
      "def get_random_points(n):\n",
      "    '''\n",
      "    Generate an array of random 2d points on a circle of radius = 1\n",
      "    '''\n",
      "    points = np.random.rand(n, 2)\n",
      "    points[:,1] = np.sqrt(1-points[:,0]*points[:,0])\n",
      "    for x in xrange(n):\n",
      "        points[x,1] = np.random.choice([-1,1])*points[x,1]\n",
      "    return points"
     ],
     "language": "python",
     "metadata": {},
     "outputs": [],
     "prompt_number": 45
    },
    {
     "cell_type": "code",
     "collapsed": false,
     "input": [
      "def get_triage_points(n):\n",
      "    '''\n",
      "    Generate an array of three groups of 2d points on a circle of radius = 1\n",
      "    Note: n >= 3\n",
      "    '''\n",
      "    labels = np.empty([n, 1])\n",
      "    points = np.empty([n, 2])\n",
      "    divider = n/3\n",
      "    points[:divider,0] = 1\n",
      "    points[:divider,1] = 0\n",
      "    labels[:divider] = 1\n",
      "    \n",
      "    points[divider: 2*divider,0] = np.cos(2*np.pi/3)\n",
      "    points[divider: 2*divider,1] = np.sin(2*np.pi/3)\n",
      "    labels[divider: 2*divider] = 2\n",
      "    \n",
      "    points[2*divider:, 0] = np.cos(4*np.pi/3)\n",
      "    points[2*divider:, 1] = np.sin(4*np.pi/3)\n",
      "    labels[2*divider:] = 3\n",
      "    return (labels, points)"
     ],
     "language": "python",
     "metadata": {},
     "outputs": [],
     "prompt_number": 46
    },
    {
     "cell_type": "code",
     "collapsed": false,
     "input": [
      "import random_kernel as rk\n",
      "import crowd_kernel as ck\n",
      "import ck_odd_out as ck_odd_out\n",
      "# 10 items with triage\n",
      "n = 10\n",
      "(labels, points) = get_triage_points(n)"
     ],
     "language": "python",
     "metadata": {},
     "outputs": []
    },
    {
     "cell_type": "code",
     "collapsed": false,
     "input": [
      "#with their default gradient\n",
      "tmp = ck.CrowdKernelTest(labels,[(1,2,3)],2,0.5, points, 500)\n",
      "start_time = time.time()\n",
      "tmp.loop_auto()\n",
      "end_time = time.time()\n",
      "tmp_err = tmp.get_error_array()\n",
      "print \"takes: \" + str(end_time - start_time)\n",
      "plt.scatter(tmp_err[:,0], tmp_err[:,1], alpha=0.1)"
     ],
     "language": "python",
     "metadata": {},
     "outputs": [
      {
       "output_type": "stream",
       "stream": "stdout",
       "text": [
        "0 1 2 "
       ]
      },
      {
       "output_type": "stream",
       "stream": "stdout",
       "text": [
        "3 4 5 "
       ]
      },
      {
       "output_type": "stream",
       "stream": "stdout",
       "text": [
        "6 7 "
       ]
      },
      {
       "ename": "IndexError",
       "evalue": "list index out of range",
       "output_type": "pyerr",
       "traceback": [
        "\u001b[0;31m---------------------------------------------------------------------------\u001b[0m\n\u001b[0;31mIndexError\u001b[0m                                Traceback (most recent call last)",
        "\u001b[0;32m<ipython-input-48-f5bfac66cc4a>\u001b[0m in \u001b[0;36m<module>\u001b[0;34m()\u001b[0m\n\u001b[1;32m      2\u001b[0m \u001b[0mtmp\u001b[0m \u001b[0;34m=\u001b[0m \u001b[0mck\u001b[0m\u001b[0;34m.\u001b[0m\u001b[0mCrowdKernelTest\u001b[0m\u001b[0;34m(\u001b[0m\u001b[0mlabels\u001b[0m\u001b[0;34m,\u001b[0m\u001b[0;34m[\u001b[0m\u001b[0;34m(\u001b[0m\u001b[0;36m1\u001b[0m\u001b[0;34m,\u001b[0m\u001b[0;36m2\u001b[0m\u001b[0;34m,\u001b[0m\u001b[0;36m3\u001b[0m\u001b[0;34m)\u001b[0m\u001b[0;34m]\u001b[0m\u001b[0;34m,\u001b[0m\u001b[0;36m2\u001b[0m\u001b[0;34m,\u001b[0m\u001b[0;36m0.5\u001b[0m\u001b[0;34m,\u001b[0m \u001b[0mpoints\u001b[0m\u001b[0;34m,\u001b[0m \u001b[0;36m500\u001b[0m\u001b[0;34m)\u001b[0m\u001b[0;34m\u001b[0m\u001b[0m\n\u001b[1;32m      3\u001b[0m \u001b[0mstart_time\u001b[0m \u001b[0;34m=\u001b[0m \u001b[0mtime\u001b[0m\u001b[0;34m.\u001b[0m\u001b[0mtime\u001b[0m\u001b[0;34m(\u001b[0m\u001b[0;34m)\u001b[0m\u001b[0;34m\u001b[0m\u001b[0m\n\u001b[0;32m----> 4\u001b[0;31m \u001b[0mtmp\u001b[0m\u001b[0;34m.\u001b[0m\u001b[0mloop_auto\u001b[0m\u001b[0;34m(\u001b[0m\u001b[0;34m)\u001b[0m\u001b[0;34m\u001b[0m\u001b[0m\n\u001b[0m\u001b[1;32m      5\u001b[0m \u001b[0mend_time\u001b[0m \u001b[0;34m=\u001b[0m \u001b[0mtime\u001b[0m\u001b[0;34m.\u001b[0m\u001b[0mtime\u001b[0m\u001b[0;34m(\u001b[0m\u001b[0;34m)\u001b[0m\u001b[0;34m\u001b[0m\u001b[0m\n\u001b[1;32m      6\u001b[0m \u001b[0mtmp_err\u001b[0m \u001b[0;34m=\u001b[0m \u001b[0mtmp\u001b[0m\u001b[0;34m.\u001b[0m\u001b[0mget_error_array\u001b[0m\u001b[0;34m(\u001b[0m\u001b[0;34m)\u001b[0m\u001b[0;34m\u001b[0m\u001b[0m\n",
        "\u001b[0;32m/Users/paopow/Desktop/sandbox/crowdkernel_test/crowd_kernel.py\u001b[0m in \u001b[0;36mloop_auto\u001b[0;34m(self)\u001b[0m\n\u001b[1;32m    240\u001b[0m \u001b[0;34m\u001b[0m\u001b[0m\n\u001b[1;32m    241\u001b[0m     \u001b[0;32mdef\u001b[0m \u001b[0mloop_auto\u001b[0m\u001b[0;34m(\u001b[0m\u001b[0mself\u001b[0m\u001b[0;34m)\u001b[0m\u001b[0;34m:\u001b[0m\u001b[0;34m\u001b[0m\u001b[0m\n\u001b[0;32m--> 242\u001b[0;31m         \u001b[0mself\u001b[0m\u001b[0;34m.\u001b[0m\u001b[0mloop_count\u001b[0m\u001b[0;34m(\u001b[0m\u001b[0mself\u001b[0m\u001b[0;34m.\u001b[0m\u001b[0mmax_query\u001b[0m\u001b[0;34m)\u001b[0m\u001b[0;34m\u001b[0m\u001b[0m\n\u001b[0m\u001b[1;32m    243\u001b[0m \u001b[0;34m\u001b[0m\u001b[0m\n",
        "\u001b[0;32m/Users/paopow/Desktop/sandbox/crowdkernel_test/crowd_kernel.py\u001b[0m in \u001b[0;36mloop_count\u001b[0;34m(self, num_query)\u001b[0m\n\u001b[1;32m    237\u001b[0m             \u001b[0mnum_comp\u001b[0m \u001b[0;34m=\u001b[0m \u001b[0mlen\u001b[0m\u001b[0;34m(\u001b[0m\u001b[0mself\u001b[0m\u001b[0;34m.\u001b[0m\u001b[0mcomparisons\u001b[0m\u001b[0;34m)\u001b[0m\u001b[0;34m\u001b[0m\u001b[0m\n\u001b[1;32m    238\u001b[0m             \u001b[0;32mif\u001b[0m \u001b[0;34m(\u001b[0m\u001b[0mnum_comp\u001b[0m \u001b[0;34m!=\u001b[0m \u001b[0;36m0\u001b[0m \u001b[0;34m)\u001b[0m \u001b[0;32mand\u001b[0m \u001b[0;34m(\u001b[0m\u001b[0mnum_comp\u001b[0m \u001b[0;34m%\u001b[0m \u001b[0;36m10\u001b[0m \u001b[0;34m==\u001b[0m \u001b[0;36m0\u001b[0m\u001b[0;34m)\u001b[0m\u001b[0;34m:\u001b[0m\u001b[0;34m\u001b[0m\u001b[0m\n\u001b[0;32m--> 239\u001b[0;31m                 \u001b[0mself\u001b[0m\u001b[0;34m.\u001b[0m\u001b[0mupdate_error\u001b[0m\u001b[0;34m(\u001b[0m\u001b[0mnum_comp\u001b[0m\u001b[0;34m)\u001b[0m\u001b[0;34m\u001b[0m\u001b[0m\n\u001b[0m\u001b[1;32m    240\u001b[0m \u001b[0;34m\u001b[0m\u001b[0m\n\u001b[1;32m    241\u001b[0m     \u001b[0;32mdef\u001b[0m \u001b[0mloop_auto\u001b[0m\u001b[0;34m(\u001b[0m\u001b[0mself\u001b[0m\u001b[0;34m)\u001b[0m\u001b[0;34m:\u001b[0m\u001b[0;34m\u001b[0m\u001b[0m\n",
        "\u001b[0;32m/Users/paopow/Desktop/sandbox/crowdkernel_test/crowd_kernel.py\u001b[0m in \u001b[0;36mupdate_error\u001b[0;34m(self, num_query)\u001b[0m\n\u001b[1;32m    185\u001b[0m         \u001b[0mstep\u001b[0m \u001b[0;34m=\u001b[0m \u001b[0mnum_query\u001b[0m\u001b[0;34m/\u001b[0m\u001b[0;36m10\u001b[0m \u001b[0;34m-\u001b[0m \u001b[0;36m1\u001b[0m\u001b[0;34m\u001b[0m\u001b[0m\n\u001b[1;32m    186\u001b[0m         \u001b[0;32mfor\u001b[0m \u001b[0mi\u001b[0m \u001b[0;32min\u001b[0m \u001b[0mrange\u001b[0m\u001b[0;34m(\u001b[0m\u001b[0mself\u001b[0m\u001b[0;34m.\u001b[0m\u001b[0mnum_pair_sample\u001b[0m\u001b[0;34m)\u001b[0m\u001b[0;34m:\u001b[0m\u001b[0;34m\u001b[0m\u001b[0m\n\u001b[0;32m--> 187\u001b[0;31m             \u001b[0mpair\u001b[0m \u001b[0;34m=\u001b[0m \u001b[0mpairs\u001b[0m\u001b[0;34m[\u001b[0m\u001b[0mi\u001b[0m\u001b[0;34m]\u001b[0m\u001b[0;34m\u001b[0m\u001b[0m\n\u001b[0m\u001b[1;32m    188\u001b[0m             \u001b[0ma\u001b[0m \u001b[0;34m=\u001b[0m \u001b[0mself\u001b[0m\u001b[0;34m.\u001b[0m\u001b[0mM\u001b[0m\u001b[0;34m[\u001b[0m\u001b[0mpair\u001b[0m\u001b[0;34m[\u001b[0m\u001b[0;36m0\u001b[0m\u001b[0;34m]\u001b[0m\u001b[0;34m,\u001b[0m\u001b[0;34m:\u001b[0m\u001b[0;34m]\u001b[0m\u001b[0;34m\u001b[0m\u001b[0m\n\u001b[1;32m    189\u001b[0m             \u001b[0mb\u001b[0m \u001b[0;34m=\u001b[0m \u001b[0mself\u001b[0m\u001b[0;34m.\u001b[0m\u001b[0mM\u001b[0m\u001b[0;34m[\u001b[0m\u001b[0mpair\u001b[0m\u001b[0;34m[\u001b[0m\u001b[0;36m1\u001b[0m\u001b[0;34m]\u001b[0m\u001b[0;34m,\u001b[0m\u001b[0;34m:\u001b[0m\u001b[0;34m]\u001b[0m\u001b[0;34m\u001b[0m\u001b[0m\n",
        "\u001b[0;31mIndexError\u001b[0m: list index out of range"
       ]
      },
      {
       "output_type": "stream",
       "stream": "stdout",
       "text": [
        "8 "
       ]
      }
     ],
     "prompt_number": 48
    },
    {
     "cell_type": "code",
     "collapsed": false,
     "input": [
      "# with our implemented gradient\n",
      "tmp_g = ck.CrowdKernelTest(labels,[(1,2,3)],2,0.5, points, 500)\n",
      "start_time = time.time()\n",
      "tmp_g.loop_auto()\n",
      "end_time = time.time()\n",
      "tmp_g_err = tmp_g.get_error_array()\n",
      "print \"takes: \" + str(end_time - start_time)\n",
      "plt.scatter(tmp_g_err[:,0], tmp_g_err[:,1], alpha=0.1)\n",
      "\n",
      "tmp_g_err_df = pd.DataFrame(tmp_g_err)\n",
      "tmp_g_err_df.columns = ['num_query', 'adaptive_odd']\n",
      "tmp_g_by_query = tmp_g_err_df.groupby('num_query')\n",
      "tmp_g_mean = tmp_g_by_query.mean()\n",
      "tmp_g_mean.plot()"
     ],
     "language": "python",
     "metadata": {},
     "outputs": [],
     "prompt_number": "*"
    },
    {
     "cell_type": "code",
     "collapsed": false,
     "input": [
      "# normal crowdkernel\n",
      "comp_sim = ck.CrowdKernelTest(labels,[(1,2,3)],2,0.5, points, 500)\n",
      "comp_sim.loop_auto()                                                                                                                  \n",
      "comp_sim_err = comp_sim.get_error_array()\n",
      "plt.scatter(comp_sim_err[:,0], comp_sim_err[:,1], alpha=0.1)"
     ],
     "language": "python",
     "metadata": {},
     "outputs": [
      {
       "output_type": "stream",
       "stream": "stdout",
       "text": [
        "0 1 2 3 "
       ]
      },
      {
       "output_type": "stream",
       "stream": "stdout",
       "text": [
        "4 5 "
       ]
      },
      {
       "output_type": "stream",
       "stream": "stdout",
       "text": [
        "6 7 "
       ]
      },
      {
       "output_type": "stream",
       "stream": "stdout",
       "text": [
        "8 9 "
       ]
      },
      {
       "output_type": "stream",
       "stream": "stdout",
       "text": [
        "10 11 "
       ]
      },
      {
       "output_type": "stream",
       "stream": "stdout",
       "text": [
        "12 13 "
       ]
      },
      {
       "output_type": "stream",
       "stream": "stdout",
       "text": [
        "14 15 "
       ]
      },
      {
       "output_type": "stream",
       "stream": "stdout",
       "text": [
        "16 17 "
       ]
      },
      {
       "output_type": "stream",
       "stream": "stdout",
       "text": [
        "18 19 "
       ]
      },
      {
       "output_type": "stream",
       "stream": "stdout",
       "text": [
        "20 21 "
       ]
      },
      {
       "output_type": "stream",
       "stream": "stdout",
       "text": [
        "22 23 "
       ]
      },
      {
       "output_type": "stream",
       "stream": "stdout",
       "text": [
        "24 25 "
       ]
      },
      {
       "output_type": "stream",
       "stream": "stdout",
       "text": [
        "26 27 "
       ]
      },
      {
       "output_type": "stream",
       "stream": "stdout",
       "text": [
        "28 29 "
       ]
      },
      {
       "output_type": "stream",
       "stream": "stdout",
       "text": [
        "30 31 "
       ]
      },
      {
       "output_type": "stream",
       "stream": "stdout",
       "text": [
        "32 33 "
       ]
      },
      {
       "output_type": "stream",
       "stream": "stdout",
       "text": [
        "34 35 "
       ]
      },
      {
       "output_type": "stream",
       "stream": "stdout",
       "text": [
        "36 37 "
       ]
      },
      {
       "output_type": "stream",
       "stream": "stdout",
       "text": [
        "38 39 "
       ]
      },
      {
       "output_type": "stream",
       "stream": "stdout",
       "text": [
        "40 41 "
       ]
      },
      {
       "output_type": "stream",
       "stream": "stdout",
       "text": [
        "42 43 "
       ]
      },
      {
       "output_type": "stream",
       "stream": "stdout",
       "text": [
        "44 45 "
       ]
      },
      {
       "output_type": "stream",
       "stream": "stdout",
       "text": [
        "46 47 "
       ]
      },
      {
       "output_type": "stream",
       "stream": "stdout",
       "text": [
        "48 49 "
       ]
      },
      {
       "output_type": "stream",
       "stream": "stdout",
       "text": [
        "50 51 "
       ]
      },
      {
       "output_type": "stream",
       "stream": "stdout",
       "text": [
        "52 53 "
       ]
      },
      {
       "output_type": "stream",
       "stream": "stdout",
       "text": [
        "54 55 "
       ]
      },
      {
       "output_type": "stream",
       "stream": "stdout",
       "text": [
        "56 57 "
       ]
      },
      {
       "output_type": "stream",
       "stream": "stdout",
       "text": [
        "58 59 "
       ]
      },
      {
       "output_type": "stream",
       "stream": "stdout",
       "text": [
        "60 61 "
       ]
      },
      {
       "output_type": "stream",
       "stream": "stdout",
       "text": [
        "62 63 "
       ]
      },
      {
       "output_type": "stream",
       "stream": "stdout",
       "text": [
        "64 65 "
       ]
      },
      {
       "output_type": "stream",
       "stream": "stdout",
       "text": [
        "66 67 "
       ]
      },
      {
       "output_type": "stream",
       "stream": "stdout",
       "text": [
        "68 69 "
       ]
      },
      {
       "output_type": "stream",
       "stream": "stdout",
       "text": [
        "70 71 "
       ]
      },
      {
       "output_type": "stream",
       "stream": "stdout",
       "text": [
        "72 73 "
       ]
      },
      {
       "output_type": "stream",
       "stream": "stdout",
       "text": [
        "74 75 "
       ]
      },
      {
       "output_type": "stream",
       "stream": "stdout",
       "text": [
        "76 77 "
       ]
      },
      {
       "output_type": "stream",
       "stream": "stdout",
       "text": [
        "78 79 "
       ]
      },
      {
       "output_type": "stream",
       "stream": "stdout",
       "text": [
        "80 81 "
       ]
      },
      {
       "output_type": "stream",
       "stream": "stdout",
       "text": [
        "82 83 "
       ]
      },
      {
       "output_type": "stream",
       "stream": "stdout",
       "text": [
        "84 85 "
       ]
      },
      {
       "output_type": "stream",
       "stream": "stdout",
       "text": [
        "86 87 "
       ]
      },
      {
       "output_type": "stream",
       "stream": "stdout",
       "text": [
        "88 89 "
       ]
      },
      {
       "output_type": "stream",
       "stream": "stdout",
       "text": [
        "90 91 "
       ]
      },
      {
       "output_type": "stream",
       "stream": "stdout",
       "text": [
        "92 93 "
       ]
      },
      {
       "output_type": "stream",
       "stream": "stdout",
       "text": [
        "94 95 "
       ]
      },
      {
       "output_type": "stream",
       "stream": "stdout",
       "text": [
        "96 97 "
       ]
      },
      {
       "output_type": "stream",
       "stream": "stdout",
       "text": [
        "98 99 "
       ]
      },
      {
       "output_type": "stream",
       "stream": "stdout",
       "text": [
        "100 101 "
       ]
      },
      {
       "output_type": "stream",
       "stream": "stdout",
       "text": [
        "102 103 "
       ]
      },
      {
       "output_type": "stream",
       "stream": "stdout",
       "text": [
        "104 105 "
       ]
      },
      {
       "output_type": "stream",
       "stream": "stdout",
       "text": [
        "106 107 "
       ]
      },
      {
       "output_type": "stream",
       "stream": "stdout",
       "text": [
        "108 109 "
       ]
      },
      {
       "output_type": "stream",
       "stream": "stdout",
       "text": [
        "110 111 "
       ]
      },
      {
       "output_type": "stream",
       "stream": "stdout",
       "text": [
        "112 113 "
       ]
      },
      {
       "output_type": "stream",
       "stream": "stdout",
       "text": [
        "114 115 "
       ]
      },
      {
       "output_type": "stream",
       "stream": "stdout",
       "text": [
        "116 117 "
       ]
      },
      {
       "output_type": "stream",
       "stream": "stdout",
       "text": [
        "118 119 "
       ]
      },
      {
       "output_type": "stream",
       "stream": "stdout",
       "text": [
        "120 121 "
       ]
      },
      {
       "output_type": "stream",
       "stream": "stdout",
       "text": [
        "122 123 "
       ]
      },
      {
       "output_type": "stream",
       "stream": "stdout",
       "text": [
        "124 125 "
       ]
      },
      {
       "output_type": "stream",
       "stream": "stdout",
       "text": [
        "126 127 "
       ]
      },
      {
       "output_type": "stream",
       "stream": "stdout",
       "text": [
        "128 129 "
       ]
      },
      {
       "output_type": "stream",
       "stream": "stdout",
       "text": [
        "130 131 "
       ]
      },
      {
       "output_type": "stream",
       "stream": "stdout",
       "text": [
        "132 133 "
       ]
      },
      {
       "output_type": "stream",
       "stream": "stdout",
       "text": [
        "134 135 "
       ]
      },
      {
       "output_type": "stream",
       "stream": "stdout",
       "text": [
        "136 137 "
       ]
      },
      {
       "output_type": "stream",
       "stream": "stdout",
       "text": [
        "138 139 "
       ]
      },
      {
       "output_type": "stream",
       "stream": "stdout",
       "text": [
        "140 141 "
       ]
      },
      {
       "output_type": "stream",
       "stream": "stdout",
       "text": [
        "142 143 "
       ]
      },
      {
       "output_type": "stream",
       "stream": "stdout",
       "text": [
        "144 145 "
       ]
      },
      {
       "output_type": "stream",
       "stream": "stdout",
       "text": [
        "146 147 "
       ]
      },
      {
       "output_type": "stream",
       "stream": "stdout",
       "text": [
        "148 149 "
       ]
      },
      {
       "output_type": "stream",
       "stream": "stdout",
       "text": [
        "150 151 "
       ]
      },
      {
       "output_type": "stream",
       "stream": "stdout",
       "text": [
        "152 153 "
       ]
      },
      {
       "output_type": "stream",
       "stream": "stdout",
       "text": [
        "154 155 "
       ]
      },
      {
       "output_type": "stream",
       "stream": "stdout",
       "text": [
        "156 157 "
       ]
      },
      {
       "output_type": "stream",
       "stream": "stdout",
       "text": [
        "158 159 "
       ]
      },
      {
       "output_type": "stream",
       "stream": "stdout",
       "text": [
        "160 161 "
       ]
      },
      {
       "output_type": "stream",
       "stream": "stdout",
       "text": [
        "162 163 "
       ]
      },
      {
       "output_type": "stream",
       "stream": "stdout",
       "text": [
        "164 165 "
       ]
      },
      {
       "output_type": "stream",
       "stream": "stdout",
       "text": [
        "166 167 "
       ]
      },
      {
       "output_type": "stream",
       "stream": "stdout",
       "text": [
        "168 169 "
       ]
      },
      {
       "output_type": "stream",
       "stream": "stdout",
       "text": [
        "170 171 "
       ]
      },
      {
       "output_type": "stream",
       "stream": "stdout",
       "text": [
        "172 173 "
       ]
      },
      {
       "output_type": "stream",
       "stream": "stdout",
       "text": [
        "174 175 "
       ]
      },
      {
       "output_type": "stream",
       "stream": "stdout",
       "text": [
        "176 177 "
       ]
      },
      {
       "output_type": "stream",
       "stream": "stdout",
       "text": [
        "178 179 "
       ]
      },
      {
       "output_type": "stream",
       "stream": "stdout",
       "text": [
        "180 181 "
       ]
      },
      {
       "output_type": "stream",
       "stream": "stdout",
       "text": [
        "182 183 "
       ]
      },
      {
       "output_type": "stream",
       "stream": "stdout",
       "text": [
        "184 185 "
       ]
      },
      {
       "output_type": "stream",
       "stream": "stdout",
       "text": [
        "186 187 "
       ]
      },
      {
       "output_type": "stream",
       "stream": "stdout",
       "text": [
        "188 189 "
       ]
      },
      {
       "output_type": "stream",
       "stream": "stdout",
       "text": [
        "190 191 "
       ]
      },
      {
       "output_type": "stream",
       "stream": "stdout",
       "text": [
        "192 193 "
       ]
      },
      {
       "output_type": "stream",
       "stream": "stdout",
       "text": [
        "194 195 "
       ]
      },
      {
       "output_type": "stream",
       "stream": "stdout",
       "text": [
        "196 197 "
       ]
      },
      {
       "output_type": "stream",
       "stream": "stdout",
       "text": [
        "198 199 "
       ]
      },
      {
       "output_type": "stream",
       "stream": "stdout",
       "text": [
        "200 201 "
       ]
      },
      {
       "output_type": "stream",
       "stream": "stdout",
       "text": [
        "202 203 "
       ]
      },
      {
       "output_type": "stream",
       "stream": "stdout",
       "text": [
        "204 205 "
       ]
      },
      {
       "output_type": "stream",
       "stream": "stdout",
       "text": [
        "206 207 "
       ]
      },
      {
       "output_type": "stream",
       "stream": "stdout",
       "text": [
        "208 209 "
       ]
      },
      {
       "output_type": "stream",
       "stream": "stdout",
       "text": [
        "210 211 "
       ]
      },
      {
       "output_type": "stream",
       "stream": "stdout",
       "text": [
        "212 213 "
       ]
      },
      {
       "output_type": "stream",
       "stream": "stdout",
       "text": [
        "214 215 "
       ]
      },
      {
       "output_type": "stream",
       "stream": "stdout",
       "text": [
        "216 217 "
       ]
      },
      {
       "output_type": "stream",
       "stream": "stdout",
       "text": [
        "218 219 "
       ]
      },
      {
       "output_type": "stream",
       "stream": "stdout",
       "text": [
        "220 221 "
       ]
      },
      {
       "output_type": "stream",
       "stream": "stdout",
       "text": [
        "222 223 "
       ]
      },
      {
       "output_type": "stream",
       "stream": "stdout",
       "text": [
        "224 225 "
       ]
      },
      {
       "output_type": "stream",
       "stream": "stdout",
       "text": [
        "226 227 "
       ]
      },
      {
       "output_type": "stream",
       "stream": "stdout",
       "text": [
        "228 229 "
       ]
      },
      {
       "output_type": "stream",
       "stream": "stdout",
       "text": [
        "230 231 "
       ]
      },
      {
       "output_type": "stream",
       "stream": "stdout",
       "text": [
        "232 233 "
       ]
      },
      {
       "output_type": "stream",
       "stream": "stdout",
       "text": [
        "234 235 "
       ]
      },
      {
       "output_type": "stream",
       "stream": "stdout",
       "text": [
        "236 237 "
       ]
      },
      {
       "output_type": "stream",
       "stream": "stdout",
       "text": [
        "238 239 "
       ]
      },
      {
       "output_type": "stream",
       "stream": "stdout",
       "text": [
        "240 241 "
       ]
      },
      {
       "output_type": "stream",
       "stream": "stdout",
       "text": [
        "242 243 "
       ]
      },
      {
       "output_type": "stream",
       "stream": "stdout",
       "text": [
        "244 245 "
       ]
      },
      {
       "output_type": "stream",
       "stream": "stdout",
       "text": [
        "246 247 "
       ]
      },
      {
       "output_type": "stream",
       "stream": "stdout",
       "text": [
        "248 249 "
       ]
      },
      {
       "output_type": "stream",
       "stream": "stdout",
       "text": [
        "250 251 "
       ]
      },
      {
       "output_type": "stream",
       "stream": "stdout",
       "text": [
        "252 253 "
       ]
      },
      {
       "output_type": "stream",
       "stream": "stdout",
       "text": [
        "254 255 "
       ]
      },
      {
       "output_type": "stream",
       "stream": "stdout",
       "text": [
        "256 257 "
       ]
      },
      {
       "output_type": "stream",
       "stream": "stdout",
       "text": [
        "258 259 "
       ]
      },
      {
       "output_type": "stream",
       "stream": "stdout",
       "text": [
        "260 261 "
       ]
      },
      {
       "output_type": "stream",
       "stream": "stdout",
       "text": [
        "262 263 "
       ]
      },
      {
       "output_type": "stream",
       "stream": "stdout",
       "text": [
        "264 265 "
       ]
      },
      {
       "output_type": "stream",
       "stream": "stdout",
       "text": [
        "266 267 "
       ]
      },
      {
       "output_type": "stream",
       "stream": "stdout",
       "text": [
        "268 269 "
       ]
      },
      {
       "output_type": "stream",
       "stream": "stdout",
       "text": [
        "270 271 "
       ]
      },
      {
       "output_type": "stream",
       "stream": "stdout",
       "text": [
        "272 273 "
       ]
      },
      {
       "output_type": "stream",
       "stream": "stdout",
       "text": [
        "274 275 "
       ]
      },
      {
       "output_type": "stream",
       "stream": "stdout",
       "text": [
        "276 277 "
       ]
      },
      {
       "output_type": "stream",
       "stream": "stdout",
       "text": [
        "278 279 "
       ]
      },
      {
       "output_type": "stream",
       "stream": "stdout",
       "text": [
        "280 281 "
       ]
      },
      {
       "output_type": "stream",
       "stream": "stdout",
       "text": [
        "282 283 "
       ]
      },
      {
       "output_type": "stream",
       "stream": "stdout",
       "text": [
        "284 285 "
       ]
      },
      {
       "output_type": "stream",
       "stream": "stdout",
       "text": [
        "286 287 "
       ]
      },
      {
       "output_type": "stream",
       "stream": "stdout",
       "text": [
        "288 289 "
       ]
      },
      {
       "output_type": "stream",
       "stream": "stdout",
       "text": [
        "290 291 "
       ]
      },
      {
       "output_type": "stream",
       "stream": "stdout",
       "text": [
        "292 293 "
       ]
      },
      {
       "output_type": "stream",
       "stream": "stdout",
       "text": [
        "294 295 "
       ]
      },
      {
       "output_type": "stream",
       "stream": "stdout",
       "text": [
        "296 297 "
       ]
      },
      {
       "output_type": "stream",
       "stream": "stdout",
       "text": [
        "298 299 "
       ]
      },
      {
       "output_type": "stream",
       "stream": "stdout",
       "text": [
        "300 301 "
       ]
      },
      {
       "output_type": "stream",
       "stream": "stdout",
       "text": [
        "302 303 "
       ]
      },
      {
       "output_type": "stream",
       "stream": "stdout",
       "text": [
        "304 305 "
       ]
      },
      {
       "output_type": "stream",
       "stream": "stdout",
       "text": [
        "306 307 "
       ]
      },
      {
       "output_type": "stream",
       "stream": "stdout",
       "text": [
        "308 309 "
       ]
      },
      {
       "output_type": "stream",
       "stream": "stdout",
       "text": [
        "310 311 "
       ]
      },
      {
       "output_type": "stream",
       "stream": "stdout",
       "text": [
        "312 313 "
       ]
      },
      {
       "output_type": "stream",
       "stream": "stdout",
       "text": [
        "314 315 "
       ]
      },
      {
       "output_type": "stream",
       "stream": "stdout",
       "text": [
        "316 317 "
       ]
      },
      {
       "output_type": "stream",
       "stream": "stdout",
       "text": [
        "318 319 "
       ]
      },
      {
       "output_type": "stream",
       "stream": "stdout",
       "text": [
        "320 321 "
       ]
      },
      {
       "output_type": "stream",
       "stream": "stdout",
       "text": [
        "322 323 "
       ]
      },
      {
       "output_type": "stream",
       "stream": "stdout",
       "text": [
        "324 325 "
       ]
      },
      {
       "output_type": "stream",
       "stream": "stdout",
       "text": [
        "326 327 "
       ]
      },
      {
       "output_type": "stream",
       "stream": "stdout",
       "text": [
        "328 329 "
       ]
      },
      {
       "output_type": "stream",
       "stream": "stdout",
       "text": [
        "330 331 "
       ]
      },
      {
       "output_type": "stream",
       "stream": "stdout",
       "text": [
        "332 333 "
       ]
      },
      {
       "output_type": "stream",
       "stream": "stdout",
       "text": [
        "334 335 "
       ]
      },
      {
       "output_type": "stream",
       "stream": "stdout",
       "text": [
        "336 337 "
       ]
      },
      {
       "output_type": "stream",
       "stream": "stdout",
       "text": [
        "338 339 "
       ]
      },
      {
       "output_type": "stream",
       "stream": "stdout",
       "text": [
        "340 341 "
       ]
      },
      {
       "output_type": "stream",
       "stream": "stdout",
       "text": [
        "342 343 "
       ]
      },
      {
       "output_type": "stream",
       "stream": "stdout",
       "text": [
        "344 345 "
       ]
      },
      {
       "output_type": "stream",
       "stream": "stdout",
       "text": [
        "346 347 "
       ]
      },
      {
       "output_type": "stream",
       "stream": "stdout",
       "text": [
        "348 349 "
       ]
      },
      {
       "output_type": "stream",
       "stream": "stdout",
       "text": [
        "350 351 "
       ]
      },
      {
       "output_type": "stream",
       "stream": "stdout",
       "text": [
        "352 353 "
       ]
      },
      {
       "output_type": "stream",
       "stream": "stdout",
       "text": [
        "354 355 "
       ]
      },
      {
       "output_type": "stream",
       "stream": "stdout",
       "text": [
        "356 357 "
       ]
      },
      {
       "output_type": "stream",
       "stream": "stdout",
       "text": [
        "358 359 "
       ]
      },
      {
       "output_type": "stream",
       "stream": "stdout",
       "text": [
        "360 361 "
       ]
      },
      {
       "output_type": "stream",
       "stream": "stdout",
       "text": [
        "362 363 "
       ]
      },
      {
       "output_type": "stream",
       "stream": "stdout",
       "text": [
        "364 365 "
       ]
      },
      {
       "output_type": "stream",
       "stream": "stdout",
       "text": [
        "366 367 "
       ]
      },
      {
       "output_type": "stream",
       "stream": "stdout",
       "text": [
        "368 369 "
       ]
      },
      {
       "output_type": "stream",
       "stream": "stdout",
       "text": [
        "370 371 "
       ]
      },
      {
       "output_type": "stream",
       "stream": "stdout",
       "text": [
        "372 373 "
       ]
      },
      {
       "output_type": "stream",
       "stream": "stdout",
       "text": [
        "374 375 "
       ]
      },
      {
       "output_type": "stream",
       "stream": "stdout",
       "text": [
        "376 377 "
       ]
      },
      {
       "output_type": "stream",
       "stream": "stdout",
       "text": [
        "378 379 "
       ]
      },
      {
       "output_type": "stream",
       "stream": "stdout",
       "text": [
        "380 381 "
       ]
      },
      {
       "output_type": "stream",
       "stream": "stdout",
       "text": [
        "382 383 "
       ]
      },
      {
       "output_type": "stream",
       "stream": "stdout",
       "text": [
        "384 385 "
       ]
      },
      {
       "output_type": "stream",
       "stream": "stdout",
       "text": [
        "386 387 "
       ]
      },
      {
       "output_type": "stream",
       "stream": "stdout",
       "text": [
        "388 389 "
       ]
      },
      {
       "output_type": "stream",
       "stream": "stdout",
       "text": [
        "390 391 "
       ]
      },
      {
       "output_type": "stream",
       "stream": "stdout",
       "text": [
        "392 393 "
       ]
      },
      {
       "output_type": "stream",
       "stream": "stdout",
       "text": [
        "394 395 "
       ]
      },
      {
       "output_type": "stream",
       "stream": "stdout",
       "text": [
        "396 397 "
       ]
      },
      {
       "output_type": "stream",
       "stream": "stdout",
       "text": [
        "398 399 "
       ]
      },
      {
       "output_type": "stream",
       "stream": "stdout",
       "text": [
        "400 401 "
       ]
      },
      {
       "output_type": "stream",
       "stream": "stdout",
       "text": [
        "402 403 "
       ]
      },
      {
       "output_type": "stream",
       "stream": "stdout",
       "text": [
        "404 405 "
       ]
      },
      {
       "output_type": "stream",
       "stream": "stdout",
       "text": [
        "406 407 "
       ]
      },
      {
       "output_type": "stream",
       "stream": "stdout",
       "text": [
        "408 409 "
       ]
      },
      {
       "output_type": "stream",
       "stream": "stdout",
       "text": [
        "410 411 "
       ]
      },
      {
       "output_type": "stream",
       "stream": "stdout",
       "text": [
        "412 413 "
       ]
      },
      {
       "output_type": "stream",
       "stream": "stdout",
       "text": [
        "414 415 "
       ]
      },
      {
       "output_type": "stream",
       "stream": "stdout",
       "text": [
        "416 417 "
       ]
      },
      {
       "output_type": "stream",
       "stream": "stdout",
       "text": [
        "418 419 "
       ]
      },
      {
       "output_type": "stream",
       "stream": "stdout",
       "text": [
        "420 421 "
       ]
      },
      {
       "output_type": "stream",
       "stream": "stdout",
       "text": [
        "422 423 "
       ]
      },
      {
       "output_type": "stream",
       "stream": "stdout",
       "text": [
        "424 425 "
       ]
      },
      {
       "output_type": "stream",
       "stream": "stdout",
       "text": [
        "426 427 "
       ]
      },
      {
       "output_type": "stream",
       "stream": "stdout",
       "text": [
        "428 429 "
       ]
      },
      {
       "output_type": "stream",
       "stream": "stdout",
       "text": [
        "430 431 "
       ]
      },
      {
       "output_type": "stream",
       "stream": "stdout",
       "text": [
        "432 433 "
       ]
      },
      {
       "output_type": "stream",
       "stream": "stdout",
       "text": [
        "434 435 "
       ]
      },
      {
       "output_type": "stream",
       "stream": "stdout",
       "text": [
        "436 437 "
       ]
      },
      {
       "output_type": "stream",
       "stream": "stdout",
       "text": [
        "438 439 "
       ]
      },
      {
       "output_type": "stream",
       "stream": "stdout",
       "text": [
        "440 441 "
       ]
      },
      {
       "output_type": "stream",
       "stream": "stdout",
       "text": [
        "442 443 "
       ]
      },
      {
       "output_type": "stream",
       "stream": "stdout",
       "text": [
        "444 445 "
       ]
      },
      {
       "output_type": "stream",
       "stream": "stdout",
       "text": [
        "446 447 "
       ]
      },
      {
       "output_type": "stream",
       "stream": "stdout",
       "text": [
        "448 449 "
       ]
      },
      {
       "output_type": "stream",
       "stream": "stdout",
       "text": [
        "450 451 "
       ]
      },
      {
       "output_type": "stream",
       "stream": "stdout",
       "text": [
        "452 453 "
       ]
      },
      {
       "output_type": "stream",
       "stream": "stdout",
       "text": [
        "454 455 "
       ]
      },
      {
       "output_type": "stream",
       "stream": "stdout",
       "text": [
        "456 457 "
       ]
      },
      {
       "output_type": "stream",
       "stream": "stdout",
       "text": [
        "458 459 "
       ]
      },
      {
       "output_type": "stream",
       "stream": "stdout",
       "text": [
        "460 461 "
       ]
      },
      {
       "output_type": "stream",
       "stream": "stdout",
       "text": [
        "462 463 "
       ]
      },
      {
       "output_type": "stream",
       "stream": "stdout",
       "text": [
        "464 465 "
       ]
      },
      {
       "output_type": "stream",
       "stream": "stdout",
       "text": [
        "466 467 "
       ]
      },
      {
       "output_type": "stream",
       "stream": "stdout",
       "text": [
        "468 469 "
       ]
      },
      {
       "output_type": "stream",
       "stream": "stdout",
       "text": [
        "470 471 "
       ]
      },
      {
       "output_type": "stream",
       "stream": "stdout",
       "text": [
        "472 473 "
       ]
      },
      {
       "output_type": "stream",
       "stream": "stdout",
       "text": [
        "474 475 "
       ]
      },
      {
       "output_type": "stream",
       "stream": "stdout",
       "text": [
        "476 477 "
       ]
      },
      {
       "output_type": "stream",
       "stream": "stdout",
       "text": [
        "478 479 "
       ]
      },
      {
       "output_type": "stream",
       "stream": "stdout",
       "text": [
        "480 481 "
       ]
      },
      {
       "output_type": "stream",
       "stream": "stdout",
       "text": [
        "482 483 "
       ]
      },
      {
       "output_type": "stream",
       "stream": "stdout",
       "text": [
        "484 485 "
       ]
      },
      {
       "output_type": "stream",
       "stream": "stdout",
       "text": [
        "486 487 "
       ]
      },
      {
       "output_type": "stream",
       "stream": "stdout",
       "text": [
        "488 489 "
       ]
      },
      {
       "output_type": "stream",
       "stream": "stdout",
       "text": [
        "490 491 "
       ]
      },
      {
       "output_type": "stream",
       "stream": "stdout",
       "text": [
        "492 493 "
       ]
      },
      {
       "output_type": "stream",
       "stream": "stdout",
       "text": [
        "494 495 "
       ]
      },
      {
       "output_type": "stream",
       "stream": "stdout",
       "text": [
        "496 497 "
       ]
      },
      {
       "output_type": "stream",
       "stream": "stdout",
       "text": [
        "498 499 "
       ]
      },
      {
       "metadata": {},
       "output_type": "pyout",
       "prompt_number": 60,
       "text": [
        "<matplotlib.collections.PathCollection at 0x1102aab90>"
       ]
      },
      {
       "metadata": {},
       "output_type": "display_data",
       "png": "[encoded data removed]",
       "text": [
        "<matplotlib.figure.Figure at 0x10ebd5210>"
       ]
      }
     ],
     "prompt_number": "*"
    },
    {
     "cell_type": "code",
     "collapsed": false,
     "input": [
      "comp_sim.plot_scatter()"
     ],
     "language": "python",
     "metadata": {},
     "outputs": [
      {
       "metadata": {},
       "output_type": "display_data",
       "png": "[encoded data removed]",
       "text": [
        "<matplotlib.figure.Figure at 0x10fef0610>"
       ]
      }
     ],
     "prompt_number": "*"
    },
    {
     "cell_type": "code",
     "collapsed": false,
     "input": [
      "with open('comp_sim.pkl', 'w') as f:\n",
      "    pickle.dump(comp_sim, f)\n",
      "with open('comp_sim_err.pkl', 'w') as f:\n",
      "    pickle.dump(comp_sim_err, f)\n",
      "\n",
      "comp_sim_err_df = pd.DataFrame(comp_sim_err)\n",
      "comp_sim_err_df.columns = ['num_query', 'adaptive_comp']\n",
      "comp_df_by_query = comp_sim_err_df.groupby('num_query')\n",
      "comp_df_mean = comp_df_by_query.mean()\n",
      "comp_df_mean.plot()\n",
      "comp_df_median = comp_df_by_query.median()"
     ],
     "language": "python",
     "metadata": {},
     "outputs": [
      {
       "metadata": {},
       "output_type": "display_data",
       "png": "[encoded data removed]",
       "text": [
        "<matplotlib.figure.Figure at 0x10fec23d0>"
       ]
      }
     ],
     "prompt_number": "*"
    },
    {
     "cell_type": "code",
     "collapsed": false,
     "input": [
      "# odd out\n",
      "odd_out = ck_odd_out.CK_odd_test(labels,[(1,2,3)],2,0.5, points, 500)\n",
      "odd_out.loop_auto()\n",
      "odd_out_err = odd_out.get_error_array()\n",
      "plt.scatter(odd_out_err[:,0], odd_out_err[:,1], alpha=0.25)\n",
      "\n"
     ],
     "language": "python",
     "metadata": {},
     "outputs": [
      {
       "output_type": "stream",
       "stream": "stdout",
       "text": [
        "0 1 2 "
       ]
      },
      {
       "output_type": "stream",
       "stream": "stdout",
       "text": [
        "3 4 "
       ]
      },
      {
       "output_type": "stream",
       "stream": "stdout",
       "text": [
        "5 6 "
       ]
      },
      {
       "output_type": "stream",
       "stream": "stdout",
       "text": [
        "7 8 "
       ]
      },
      {
       "output_type": "stream",
       "stream": "stdout",
       "text": [
        "9 10 "
       ]
      },
      {
       "output_type": "stream",
       "stream": "stdout",
       "text": [
        "11 12 "
       ]
      },
      {
       "output_type": "stream",
       "stream": "stdout",
       "text": [
        "13 14 "
       ]
      },
      {
       "output_type": "stream",
       "stream": "stdout",
       "text": [
        "15 16 "
       ]
      },
      {
       "output_type": "stream",
       "stream": "stdout",
       "text": [
        "17 18 "
       ]
      },
      {
       "output_type": "stream",
       "stream": "stdout",
       "text": [
        "19 20 "
       ]
      },
      {
       "output_type": "stream",
       "stream": "stdout",
       "text": [
        "21 22 "
       ]
      },
      {
       "output_type": "stream",
       "stream": "stdout",
       "text": [
        "23 24 "
       ]
      },
      {
       "output_type": "stream",
       "stream": "stdout",
       "text": [
        "25 26 "
       ]
      },
      {
       "output_type": "stream",
       "stream": "stdout",
       "text": [
        "27 28 "
       ]
      },
      {
       "output_type": "stream",
       "stream": "stdout",
       "text": [
        "29 30 "
       ]
      },
      {
       "output_type": "stream",
       "stream": "stdout",
       "text": [
        "31 32 "
       ]
      },
      {
       "output_type": "stream",
       "stream": "stdout",
       "text": [
        "33 34 "
       ]
      },
      {
       "output_type": "stream",
       "stream": "stdout",
       "text": [
        "35 36 "
       ]
      },
      {
       "output_type": "stream",
       "stream": "stdout",
       "text": [
        "37 38 "
       ]
      },
      {
       "output_type": "stream",
       "stream": "stdout",
       "text": [
        "39 40 "
       ]
      },
      {
       "output_type": "stream",
       "stream": "stdout",
       "text": [
        "41 42 "
       ]
      },
      {
       "output_type": "stream",
       "stream": "stdout",
       "text": [
        "43 44 "
       ]
      },
      {
       "output_type": "stream",
       "stream": "stdout",
       "text": [
        "45 46 "
       ]
      },
      {
       "output_type": "stream",
       "stream": "stdout",
       "text": [
        "47 48 "
       ]
      },
      {
       "output_type": "stream",
       "stream": "stdout",
       "text": [
        "49 50 "
       ]
      },
      {
       "output_type": "stream",
       "stream": "stdout",
       "text": [
        "51 52 "
       ]
      },
      {
       "output_type": "stream",
       "stream": "stdout",
       "text": [
        "53 54 "
       ]
      },
      {
       "output_type": "stream",
       "stream": "stdout",
       "text": [
        "55 56 "
       ]
      },
      {
       "output_type": "stream",
       "stream": "stdout",
       "text": [
        "57 58 "
       ]
      },
      {
       "output_type": "stream",
       "stream": "stdout",
       "text": [
        "59 60 "
       ]
      },
      {
       "output_type": "stream",
       "stream": "stdout",
       "text": [
        "61 62 "
       ]
      },
      {
       "output_type": "stream",
       "stream": "stdout",
       "text": [
        "63 64 "
       ]
      },
      {
       "output_type": "stream",
       "stream": "stdout",
       "text": [
        "65 66 "
       ]
      },
      {
       "output_type": "stream",
       "stream": "stdout",
       "text": [
        "67 68 "
       ]
      },
      {
       "output_type": "stream",
       "stream": "stdout",
       "text": [
        "69 70 "
       ]
      },
      {
       "output_type": "stream",
       "stream": "stdout",
       "text": [
        "71 72 "
       ]
      },
      {
       "output_type": "stream",
       "stream": "stdout",
       "text": [
        "73 74 "
       ]
      },
      {
       "output_type": "stream",
       "stream": "stdout",
       "text": [
        "75 76 "
       ]
      },
      {
       "output_type": "stream",
       "stream": "stdout",
       "text": [
        "77 78 "
       ]
      },
      {
       "output_type": "stream",
       "stream": "stdout",
       "text": [
        "79 80 "
       ]
      },
      {
       "output_type": "stream",
       "stream": "stdout",
       "text": [
        "81 82 "
       ]
      },
      {
       "output_type": "stream",
       "stream": "stdout",
       "text": [
        "83 84 "
       ]
      },
      {
       "output_type": "stream",
       "stream": "stdout",
       "text": [
        "85 86 "
       ]
      },
      {
       "output_type": "stream",
       "stream": "stdout",
       "text": [
        "87 88 "
       ]
      },
      {
       "output_type": "stream",
       "stream": "stdout",
       "text": [
        "89 90 "
       ]
      },
      {
       "output_type": "stream",
       "stream": "stdout",
       "text": [
        "91 92 "
       ]
      },
      {
       "output_type": "stream",
       "stream": "stdout",
       "text": [
        "93 94 "
       ]
      },
      {
       "output_type": "stream",
       "stream": "stdout",
       "text": [
        "95 96 "
       ]
      },
      {
       "output_type": "stream",
       "stream": "stdout",
       "text": [
        "97 98 "
       ]
      },
      {
       "output_type": "stream",
       "stream": "stdout",
       "text": [
        "99 100 "
       ]
      },
      {
       "output_type": "stream",
       "stream": "stdout",
       "text": [
        "101 102 "
       ]
      },
      {
       "output_type": "stream",
       "stream": "stdout",
       "text": [
        "103 104 "
       ]
      },
      {
       "output_type": "stream",
       "stream": "stdout",
       "text": [
        "105 106 "
       ]
      },
      {
       "output_type": "stream",
       "stream": "stdout",
       "text": [
        "107 108 "
       ]
      },
      {
       "output_type": "stream",
       "stream": "stdout",
       "text": [
        "109 110 "
       ]
      },
      {
       "output_type": "stream",
       "stream": "stdout",
       "text": [
        "111 112 "
       ]
      },
      {
       "output_type": "stream",
       "stream": "stdout",
       "text": [
        "113 114 "
       ]
      },
      {
       "output_type": "stream",
       "stream": "stdout",
       "text": [
        "115 116 "
       ]
      },
      {
       "output_type": "stream",
       "stream": "stdout",
       "text": [
        "117 118 "
       ]
      },
      {
       "output_type": "stream",
       "stream": "stdout",
       "text": [
        "119 120 "
       ]
      },
      {
       "output_type": "stream",
       "stream": "stdout",
       "text": [
        "121 122 "
       ]
      },
      {
       "output_type": "stream",
       "stream": "stdout",
       "text": [
        "123 124 "
       ]
      },
      {
       "output_type": "stream",
       "stream": "stdout",
       "text": [
        "125 126 "
       ]
      },
      {
       "output_type": "stream",
       "stream": "stdout",
       "text": [
        "127 128 "
       ]
      },
      {
       "output_type": "stream",
       "stream": "stdout",
       "text": [
        "129 130 "
       ]
      },
      {
       "output_type": "stream",
       "stream": "stdout",
       "text": [
        "131 132 "
       ]
      },
      {
       "output_type": "stream",
       "stream": "stdout",
       "text": [
        "133 134 "
       ]
      },
      {
       "output_type": "stream",
       "stream": "stdout",
       "text": [
        "135 136 "
       ]
      },
      {
       "output_type": "stream",
       "stream": "stdout",
       "text": [
        "137 138 "
       ]
      },
      {
       "output_type": "stream",
       "stream": "stdout",
       "text": [
        "139 140 "
       ]
      },
      {
       "output_type": "stream",
       "stream": "stdout",
       "text": [
        "141 142 "
       ]
      },
      {
       "output_type": "stream",
       "stream": "stdout",
       "text": [
        "143 144 "
       ]
      },
      {
       "output_type": "stream",
       "stream": "stdout",
       "text": [
        "145 146 "
       ]
      },
      {
       "output_type": "stream",
       "stream": "stdout",
       "text": [
        "147 148 "
       ]
      },
      {
       "output_type": "stream",
       "stream": "stdout",
       "text": [
        "149 150 "
       ]
      },
      {
       "output_type": "stream",
       "stream": "stdout",
       "text": [
        "151 152 "
       ]
      },
      {
       "output_type": "stream",
       "stream": "stdout",
       "text": [
        "153 154 "
       ]
      },
      {
       "output_type": "stream",
       "stream": "stdout",
       "text": [
        "155 156 "
       ]
      },
      {
       "output_type": "stream",
       "stream": "stdout",
       "text": [
        "157 158 "
       ]
      },
      {
       "output_type": "stream",
       "stream": "stdout",
       "text": [
        "159 160 "
       ]
      },
      {
       "output_type": "stream",
       "stream": "stdout",
       "text": [
        "161 162 "
       ]
      },
      {
       "output_type": "stream",
       "stream": "stdout",
       "text": [
        "163 164 "
       ]
      },
      {
       "output_type": "stream",
       "stream": "stdout",
       "text": [
        "165 166 "
       ]
      },
      {
       "output_type": "stream",
       "stream": "stdout",
       "text": [
        "167 168 "
       ]
      },
      {
       "output_type": "stream",
       "stream": "stdout",
       "text": [
        "169 170 "
       ]
      },
      {
       "output_type": "stream",
       "stream": "stdout",
       "text": [
        "171 172 "
       ]
      },
      {
       "output_type": "stream",
       "stream": "stdout",
       "text": [
        "173 174 "
       ]
      },
      {
       "output_type": "stream",
       "stream": "stdout",
       "text": [
        "175 176 "
       ]
      },
      {
       "output_type": "stream",
       "stream": "stdout",
       "text": [
        "177 178 "
       ]
      },
      {
       "output_type": "stream",
       "stream": "stdout",
       "text": [
        "179 180 "
       ]
      },
      {
       "output_type": "stream",
       "stream": "stdout",
       "text": [
        "181 182 "
       ]
      },
      {
       "output_type": "stream",
       "stream": "stdout",
       "text": [
        "183 184 "
       ]
      },
      {
       "output_type": "stream",
       "stream": "stdout",
       "text": [
        "185 186 "
       ]
      },
      {
       "output_type": "stream",
       "stream": "stdout",
       "text": [
        "187 188 "
       ]
      },
      {
       "output_type": "stream",
       "stream": "stdout",
       "text": [
        "189 190 "
       ]
      },
      {
       "output_type": "stream",
       "stream": "stdout",
       "text": [
        "191 192 "
       ]
      },
      {
       "output_type": "stream",
       "stream": "stdout",
       "text": [
        "193 194 "
       ]
      },
      {
       "output_type": "stream",
       "stream": "stdout",
       "text": [
        "195 196 "
       ]
      },
      {
       "output_type": "stream",
       "stream": "stdout",
       "text": [
        "197 198 "
       ]
      },
      {
       "output_type": "stream",
       "stream": "stdout",
       "text": [
        "199 200 "
       ]
      },
      {
       "output_type": "stream",
       "stream": "stdout",
       "text": [
        "201 202 "
       ]
      },
      {
       "output_type": "stream",
       "stream": "stdout",
       "text": [
        "203 204 "
       ]
      },
      {
       "output_type": "stream",
       "stream": "stdout",
       "text": [
        "205 206 "
       ]
      },
      {
       "output_type": "stream",
       "stream": "stdout",
       "text": [
        "207 208 "
       ]
      },
      {
       "output_type": "stream",
       "stream": "stdout",
       "text": [
        "209 210 "
       ]
      },
      {
       "output_type": "stream",
       "stream": "stdout",
       "text": [
        "211 212 "
       ]
      },
      {
       "output_type": "stream",
       "stream": "stdout",
       "text": [
        "213 214 "
       ]
      },
      {
       "output_type": "stream",
       "stream": "stdout",
       "text": [
        "215 216 "
       ]
      },
      {
       "output_type": "stream",
       "stream": "stdout",
       "text": [
        "217 218 "
       ]
      },
      {
       "output_type": "stream",
       "stream": "stdout",
       "text": [
        "219 220 "
       ]
      },
      {
       "output_type": "stream",
       "stream": "stdout",
       "text": [
        "221 222 "
       ]
      },
      {
       "output_type": "stream",
       "stream": "stdout",
       "text": [
        "223 224 "
       ]
      },
      {
       "output_type": "stream",
       "stream": "stdout",
       "text": [
        "225 226 "
       ]
      },
      {
       "output_type": "stream",
       "stream": "stdout",
       "text": [
        "227 228 "
       ]
      },
      {
       "output_type": "stream",
       "stream": "stdout",
       "text": [
        "229 230 "
       ]
      },
      {
       "output_type": "stream",
       "stream": "stdout",
       "text": [
        "231 232 "
       ]
      },
      {
       "output_type": "stream",
       "stream": "stdout",
       "text": [
        "233 234 "
       ]
      },
      {
       "output_type": "stream",
       "stream": "stdout",
       "text": [
        "235 236 "
       ]
      },
      {
       "output_type": "stream",
       "stream": "stdout",
       "text": [
        "237 238 "
       ]
      },
      {
       "output_type": "stream",
       "stream": "stdout",
       "text": [
        "239 240 "
       ]
      },
      {
       "output_type": "stream",
       "stream": "stdout",
       "text": [
        "241 242 "
       ]
      },
      {
       "output_type": "stream",
       "stream": "stdout",
       "text": [
        "243 244 "
       ]
      },
      {
       "output_type": "stream",
       "stream": "stdout",
       "text": [
        "245 246 "
       ]
      },
      {
       "output_type": "stream",
       "stream": "stdout",
       "text": [
        "247 248 "
       ]
      },
      {
       "output_type": "stream",
       "stream": "stdout",
       "text": [
        "249 250 "
       ]
      },
      {
       "output_type": "stream",
       "stream": "stdout",
       "text": [
        "251 252 "
       ]
      },
      {
       "output_type": "stream",
       "stream": "stdout",
       "text": [
        "253 254 "
       ]
      },
      {
       "output_type": "stream",
       "stream": "stdout",
       "text": [
        "255 256 "
       ]
      },
      {
       "output_type": "stream",
       "stream": "stdout",
       "text": [
        "257 258 "
       ]
      },
      {
       "output_type": "stream",
       "stream": "stdout",
       "text": [
        "259 260 "
       ]
      },
      {
       "output_type": "stream",
       "stream": "stdout",
       "text": [
        "261 262 "
       ]
      },
      {
       "output_type": "stream",
       "stream": "stdout",
       "text": [
        "263 264 "
       ]
      },
      {
       "output_type": "stream",
       "stream": "stdout",
       "text": [
        "265 266 "
       ]
      },
      {
       "output_type": "stream",
       "stream": "stdout",
       "text": [
        "267 268 "
       ]
      },
      {
       "output_type": "stream",
       "stream": "stdout",
       "text": [
        "269 270 "
       ]
      },
      {
       "output_type": "stream",
       "stream": "stdout",
       "text": [
        "271 272 "
       ]
      },
      {
       "output_type": "stream",
       "stream": "stdout",
       "text": [
        "273 274 "
       ]
      },
      {
       "output_type": "stream",
       "stream": "stdout",
       "text": [
        "275 276 "
       ]
      },
      {
       "output_type": "stream",
       "stream": "stdout",
       "text": [
        "277 278 "
       ]
      },
      {
       "output_type": "stream",
       "stream": "stdout",
       "text": [
        "279 280 "
       ]
      },
      {
       "output_type": "stream",
       "stream": "stdout",
       "text": [
        "281 282 "
       ]
      },
      {
       "output_type": "stream",
       "stream": "stdout",
       "text": [
        "283 284 "
       ]
      },
      {
       "output_type": "stream",
       "stream": "stdout",
       "text": [
        "285 286 "
       ]
      },
      {
       "output_type": "stream",
       "stream": "stdout",
       "text": [
        "287 288 "
       ]
      },
      {
       "output_type": "stream",
       "stream": "stdout",
       "text": [
        "289 290 "
       ]
      },
      {
       "output_type": "stream",
       "stream": "stdout",
       "text": [
        "291 292 "
       ]
      },
      {
       "output_type": "stream",
       "stream": "stdout",
       "text": [
        "293 294 "
       ]
      },
      {
       "output_type": "stream",
       "stream": "stdout",
       "text": [
        "295 296 "
       ]
      },
      {
       "output_type": "stream",
       "stream": "stdout",
       "text": [
        "297 298 "
       ]
      },
      {
       "output_type": "stream",
       "stream": "stdout",
       "text": [
        "299 300 "
       ]
      },
      {
       "output_type": "stream",
       "stream": "stdout",
       "text": [
        "301 302 "
       ]
      },
      {
       "output_type": "stream",
       "stream": "stdout",
       "text": [
        "303 304 "
       ]
      },
      {
       "output_type": "stream",
       "stream": "stdout",
       "text": [
        "305 306 "
       ]
      },
      {
       "output_type": "stream",
       "stream": "stdout",
       "text": [
        "307 308 "
       ]
      },
      {
       "output_type": "stream",
       "stream": "stdout",
       "text": [
        "309 310 "
       ]
      },
      {
       "output_type": "stream",
       "stream": "stdout",
       "text": [
        "311 312 "
       ]
      },
      {
       "output_type": "stream",
       "stream": "stdout",
       "text": [
        "313 314 "
       ]
      },
      {
       "output_type": "stream",
       "stream": "stdout",
       "text": [
        "315 316 "
       ]
      },
      {
       "output_type": "stream",
       "stream": "stdout",
       "text": [
        "317 318 "
       ]
      },
      {
       "output_type": "stream",
       "stream": "stdout",
       "text": [
        "319 320 "
       ]
      },
      {
       "output_type": "stream",
       "stream": "stdout",
       "text": [
        "321 322 "
       ]
      },
      {
       "output_type": "stream",
       "stream": "stdout",
       "text": [
        "323 324 "
       ]
      },
      {
       "output_type": "stream",
       "stream": "stdout",
       "text": [
        "325 326 "
       ]
      },
      {
       "output_type": "stream",
       "stream": "stdout",
       "text": [
        "327 328 "
       ]
      },
      {
       "output_type": "stream",
       "stream": "stdout",
       "text": [
        "329 330 "
       ]
      },
      {
       "output_type": "stream",
       "stream": "stdout",
       "text": [
        "331 332 "
       ]
      },
      {
       "output_type": "stream",
       "stream": "stdout",
       "text": [
        "333 334 "
       ]
      },
      {
       "output_type": "stream",
       "stream": "stdout",
       "text": [
        "335 336 "
       ]
      },
      {
       "output_type": "stream",
       "stream": "stdout",
       "text": [
        "337 338 "
       ]
      },
      {
       "output_type": "stream",
       "stream": "stdout",
       "text": [
        "339 340 "
       ]
      },
      {
       "output_type": "stream",
       "stream": "stdout",
       "text": [
        "341 342 "
       ]
      },
      {
       "output_type": "stream",
       "stream": "stdout",
       "text": [
        "343 344 "
       ]
      },
      {
       "output_type": "stream",
       "stream": "stdout",
       "text": [
        "345 346 "
       ]
      },
      {
       "output_type": "stream",
       "stream": "stdout",
       "text": [
        "347 348 "
       ]
      },
      {
       "output_type": "stream",
       "stream": "stdout",
       "text": [
        "349 350 "
       ]
      },
      {
       "output_type": "stream",
       "stream": "stdout",
       "text": [
        "351 352 "
       ]
      },
      {
       "output_type": "stream",
       "stream": "stdout",
       "text": [
        "353 354 "
       ]
      },
      {
       "output_type": "stream",
       "stream": "stdout",
       "text": [
        "355 356 "
       ]
      },
      {
       "output_type": "stream",
       "stream": "stdout",
       "text": [
        "357 358 "
       ]
      },
      {
       "output_type": "stream",
       "stream": "stdout",
       "text": [
        "359 360 "
       ]
      },
      {
       "output_type": "stream",
       "stream": "stdout",
       "text": [
        "361 362 "
       ]
      },
      {
       "output_type": "stream",
       "stream": "stdout",
       "text": [
        "363 364 "
       ]
      },
      {
       "output_type": "stream",
       "stream": "stdout",
       "text": [
        "365 366 "
       ]
      },
      {
       "output_type": "stream",
       "stream": "stdout",
       "text": [
        "367 368 "
       ]
      },
      {
       "output_type": "stream",
       "stream": "stdout",
       "text": [
        "369 370 "
       ]
      },
      {
       "output_type": "stream",
       "stream": "stdout",
       "text": [
        "371 372 "
       ]
      },
      {
       "output_type": "stream",
       "stream": "stdout",
       "text": [
        "373 374 "
       ]
      },
      {
       "output_type": "stream",
       "stream": "stdout",
       "text": [
        "375 376 "
       ]
      },
      {
       "output_type": "stream",
       "stream": "stdout",
       "text": [
        "377 378 "
       ]
      },
      {
       "output_type": "stream",
       "stream": "stdout",
       "text": [
        "379 380 "
       ]
      },
      {
       "output_type": "stream",
       "stream": "stdout",
       "text": [
        "381 382 "
       ]
      },
      {
       "output_type": "stream",
       "stream": "stdout",
       "text": [
        "383 384 "
       ]
      },
      {
       "output_type": "stream",
       "stream": "stdout",
       "text": [
        "385 386 "
       ]
      },
      {
       "output_type": "stream",
       "stream": "stdout",
       "text": [
        "387 388 "
       ]
      },
      {
       "output_type": "stream",
       "stream": "stdout",
       "text": [
        "389 390 "
       ]
      },
      {
       "output_type": "stream",
       "stream": "stdout",
       "text": [
        "391 392 "
       ]
      },
      {
       "output_type": "stream",
       "stream": "stdout",
       "text": [
        "393 394 "
       ]
      },
      {
       "output_type": "stream",
       "stream": "stdout",
       "text": [
        "395 396 "
       ]
      },
      {
       "output_type": "stream",
       "stream": "stdout",
       "text": [
        "397 398 "
       ]
      },
      {
       "output_type": "stream",
       "stream": "stdout",
       "text": [
        "399 400 "
       ]
      },
      {
       "output_type": "stream",
       "stream": "stdout",
       "text": [
        "401 402 "
       ]
      },
      {
       "output_type": "stream",
       "stream": "stdout",
       "text": [
        "403 404 "
       ]
      },
      {
       "output_type": "stream",
       "stream": "stdout",
       "text": [
        "405 406 "
       ]
      },
      {
       "output_type": "stream",
       "stream": "stdout",
       "text": [
        "407 408 "
       ]
      },
      {
       "output_type": "stream",
       "stream": "stdout",
       "text": [
        "409 410 "
       ]
      },
      {
       "output_type": "stream",
       "stream": "stdout",
       "text": [
        "411 412 "
       ]
      },
      {
       "output_type": "stream",
       "stream": "stdout",
       "text": [
        "413 414 "
       ]
      },
      {
       "output_type": "stream",
       "stream": "stdout",
       "text": [
        "415 416 "
       ]
      },
      {
       "output_type": "stream",
       "stream": "stdout",
       "text": [
        "417 418 "
       ]
      },
      {
       "output_type": "stream",
       "stream": "stdout",
       "text": [
        "419 420 "
       ]
      },
      {
       "output_type": "stream",
       "stream": "stdout",
       "text": [
        "421 422 "
       ]
      },
      {
       "output_type": "stream",
       "stream": "stdout",
       "text": [
        "423 424 "
       ]
      },
      {
       "output_type": "stream",
       "stream": "stdout",
       "text": [
        "425 426 "
       ]
      },
      {
       "output_type": "stream",
       "stream": "stdout",
       "text": [
        "427 428 "
       ]
      },
      {
       "output_type": "stream",
       "stream": "stdout",
       "text": [
        "429 430 "
       ]
      },
      {
       "output_type": "stream",
       "stream": "stdout",
       "text": [
        "431 432 "
       ]
      },
      {
       "output_type": "stream",
       "stream": "stdout",
       "text": [
        "433 434 "
       ]
      },
      {
       "output_type": "stream",
       "stream": "stdout",
       "text": [
        "435 436 "
       ]
      },
      {
       "output_type": "stream",
       "stream": "stdout",
       "text": [
        "437 438 "
       ]
      },
      {
       "output_type": "stream",
       "stream": "stdout",
       "text": [
        "439 440 "
       ]
      },
      {
       "output_type": "stream",
       "stream": "stdout",
       "text": [
        "441 442 "
       ]
      },
      {
       "output_type": "stream",
       "stream": "stdout",
       "text": [
        "443 444 "
       ]
      },
      {
       "output_type": "stream",
       "stream": "stdout",
       "text": [
        "445 446 "
       ]
      },
      {
       "output_type": "stream",
       "stream": "stdout",
       "text": [
        "447 448 "
       ]
      },
      {
       "output_type": "stream",
       "stream": "stdout",
       "text": [
        "449 450 "
       ]
      },
      {
       "output_type": "stream",
       "stream": "stdout",
       "text": [
        "451 452 "
       ]
      },
      {
       "output_type": "stream",
       "stream": "stdout",
       "text": [
        "453 454 "
       ]
      },
      {
       "output_type": "stream",
       "stream": "stdout",
       "text": [
        "455 456 "
       ]
      },
      {
       "output_type": "stream",
       "stream": "stdout",
       "text": [
        "457 458 "
       ]
      },
      {
       "output_type": "stream",
       "stream": "stdout",
       "text": [
        "459 460 "
       ]
      },
      {
       "output_type": "stream",
       "stream": "stdout",
       "text": [
        "461 462 "
       ]
      },
      {
       "output_type": "stream",
       "stream": "stdout",
       "text": [
        "463 464 "
       ]
      },
      {
       "output_type": "stream",
       "stream": "stdout",
       "text": [
        "465 466 "
       ]
      },
      {
       "output_type": "stream",
       "stream": "stdout",
       "text": [
        "467 468 "
       ]
      },
      {
       "output_type": "stream",
       "stream": "stdout",
       "text": [
        "469 470 "
       ]
      },
      {
       "output_type": "stream",
       "stream": "stdout",
       "text": [
        "471 472 "
       ]
      },
      {
       "output_type": "stream",
       "stream": "stdout",
       "text": [
        "473 474 "
       ]
      },
      {
       "output_type": "stream",
       "stream": "stdout",
       "text": [
        "475 476 "
       ]
      },
      {
       "output_type": "stream",
       "stream": "stdout",
       "text": [
        "477 478 "
       ]
      },
      {
       "output_type": "stream",
       "stream": "stdout",
       "text": [
        "479 480 "
       ]
      },
      {
       "output_type": "stream",
       "stream": "stdout",
       "text": [
        "481 482 "
       ]
      },
      {
       "output_type": "stream",
       "stream": "stdout",
       "text": [
        "483 484 "
       ]
      },
      {
       "output_type": "stream",
       "stream": "stdout",
       "text": [
        "485 486 "
       ]
      },
      {
       "output_type": "stream",
       "stream": "stdout",
       "text": [
        "487 488 "
       ]
      },
      {
       "output_type": "stream",
       "stream": "stdout",
       "text": [
        "489 490 "
       ]
      },
      {
       "output_type": "stream",
       "stream": "stdout",
       "text": [
        "491 492 "
       ]
      },
      {
       "output_type": "stream",
       "stream": "stdout",
       "text": [
        "493 494 "
       ]
      },
      {
       "output_type": "stream",
       "stream": "stdout",
       "text": [
        "495 496 "
       ]
      },
      {
       "output_type": "stream",
       "stream": "stdout",
       "text": [
        "497 498 "
       ]
      },
      {
       "output_type": "stream",
       "stream": "stdout",
       "text": [
        "499 "
       ]
      },
      {
       "metadata": {},
       "output_type": "pyout",
       "prompt_number": 63,
       "text": [
        "<matplotlib.collections.PathCollection at 0x11018e250>"
       ]
      },
      {
       "metadata": {},
       "output_type": "display_data",
       "png": "[encoded data removed]",
       "text": [
        "<matplotlib.figure.Figure at 0x110162190>"
       ]
      }
     ],
     "prompt_number": "*"
    },
    {
     "cell_type": "code",
     "collapsed": false,
     "input": [
      "with open('odd_out.pkl', 'w') as f:\n",
      "    pickle.dump(odd_out, f)\n",
      "with open('odd_out_err.pkl', 'w') as f:\n",
      "    pickle.dump(odd_out_err, f)\n",
      "\n",
      "odd_out_err_df = pd.DataFrame(odd_out_err)\n",
      "odd_out_err_df.columns = ['num_query', 'adaptive_odd']\n",
      "odd_df_by_query = odd_out_err_df.groupby('num_query')\n",
      "odd_df_mean = odd_df_by_query.mean()\n",
      "odd_df_mean.plot()\n",
      "odd_df_median = odd_df_by_query.median()"
     ],
     "language": "python",
     "metadata": {},
     "outputs": [
      {
       "metadata": {},
       "output_type": "display_data",
       "png": "[encoded data removed]",
       "text": [
        "<matplotlib.figure.Figure at 0x1102b2ed0>"
       ]
      }
     ],
     "prompt_number": "*"
    },
    {
     "cell_type": "code",
     "collapsed": false,
     "input": [
      "# random similarity question -> Note: The random method is pretty stupid. It might ask questions on previous triplets.\n",
      "r_comp_sim = rk.RandomSimKernelTest(labels, [(1,2,3)], 2, 0.5, points, 500)\n",
      "r_comp_sim.loop_auto()\n",
      "r_comp_sim_err = r_comp_sim.get_error_array()\n",
      "plt.scatter(r_comp_sim_err[:,0], r_comp_sim_err[:,1], alpha=0.25)"
     ],
     "language": "python",
     "metadata": {},
     "outputs": [
      {
       "output_type": "stream",
       "stream": "stdout",
       "text": [
        "0 1 2 "
       ]
      },
      {
       "output_type": "stream",
       "stream": "stdout",
       "text": [
        "3 4 "
       ]
      },
      {
       "output_type": "stream",
       "stream": "stdout",
       "text": [
        "5 6 7 "
       ]
      },
      {
       "output_type": "stream",
       "stream": "stdout",
       "text": [
        "8 9 "
       ]
      },
      {
       "output_type": "stream",
       "stream": "stdout",
       "text": [
        "10 11 "
       ]
      },
      {
       "output_type": "stream",
       "stream": "stdout",
       "text": [
        "12 13 "
       ]
      },
      {
       "output_type": "stream",
       "stream": "stdout",
       "text": [
        "14 15 "
       ]
      },
      {
       "output_type": "stream",
       "stream": "stdout",
       "text": [
        "16 17 "
       ]
      },
      {
       "output_type": "stream",
       "stream": "stdout",
       "text": [
        "18 19 "
       ]
      },
      {
       "output_type": "stream",
       "stream": "stdout",
       "text": [
        "20 21 "
       ]
      },
      {
       "output_type": "stream",
       "stream": "stdout",
       "text": [
        "22 23 "
       ]
      },
      {
       "output_type": "stream",
       "stream": "stdout",
       "text": [
        "24 25 "
       ]
      },
      {
       "output_type": "stream",
       "stream": "stdout",
       "text": [
        "26 27 "
       ]
      },
      {
       "output_type": "stream",
       "stream": "stdout",
       "text": [
        "28 29 "
       ]
      },
      {
       "output_type": "stream",
       "stream": "stdout",
       "text": [
        "30 31 "
       ]
      },
      {
       "output_type": "stream",
       "stream": "stdout",
       "text": [
        "32 33 "
       ]
      },
      {
       "output_type": "stream",
       "stream": "stdout",
       "text": [
        "34 35 "
       ]
      },
      {
       "output_type": "stream",
       "stream": "stdout",
       "text": [
        "36 37 "
       ]
      },
      {
       "output_type": "stream",
       "stream": "stdout",
       "text": [
        "38 39 "
       ]
      },
      {
       "output_type": "stream",
       "stream": "stdout",
       "text": [
        "40 41 "
       ]
      },
      {
       "output_type": "stream",
       "stream": "stdout",
       "text": [
        "42 43 "
       ]
      },
      {
       "output_type": "stream",
       "stream": "stdout",
       "text": [
        "44 45 "
       ]
      },
      {
       "output_type": "stream",
       "stream": "stdout",
       "text": [
        "46 47 "
       ]
      },
      {
       "output_type": "stream",
       "stream": "stdout",
       "text": [
        "48 49 "
       ]
      },
      {
       "output_type": "stream",
       "stream": "stdout",
       "text": [
        "50 51 "
       ]
      },
      {
       "output_type": "stream",
       "stream": "stdout",
       "text": [
        "52 53 "
       ]
      },
      {
       "output_type": "stream",
       "stream": "stdout",
       "text": [
        "54 55 "
       ]
      },
      {
       "output_type": "stream",
       "stream": "stdout",
       "text": [
        "56 57 "
       ]
      },
      {
       "output_type": "stream",
       "stream": "stdout",
       "text": [
        "58 59 "
       ]
      },
      {
       "output_type": "stream",
       "stream": "stdout",
       "text": [
        "60 61 "
       ]
      },
      {
       "output_type": "stream",
       "stream": "stdout",
       "text": [
        "62 63 "
       ]
      },
      {
       "output_type": "stream",
       "stream": "stdout",
       "text": [
        "64 65 "
       ]
      },
      {
       "output_type": "stream",
       "stream": "stdout",
       "text": [
        "66 67 "
       ]
      },
      {
       "output_type": "stream",
       "stream": "stdout",
       "text": [
        "68 69 "
       ]
      },
      {
       "output_type": "stream",
       "stream": "stdout",
       "text": [
        "70 71 "
       ]
      },
      {
       "output_type": "stream",
       "stream": "stdout",
       "text": [
        "72 73 "
       ]
      },
      {
       "output_type": "stream",
       "stream": "stdout",
       "text": [
        "74 75 "
       ]
      },
      {
       "output_type": "stream",
       "stream": "stdout",
       "text": [
        "76 77 "
       ]
      },
      {
       "output_type": "stream",
       "stream": "stdout",
       "text": [
        "78 79 "
       ]
      },
      {
       "output_type": "stream",
       "stream": "stdout",
       "text": [
        "80 81 "
       ]
      },
      {
       "output_type": "stream",
       "stream": "stdout",
       "text": [
        "82 83 "
       ]
      },
      {
       "output_type": "stream",
       "stream": "stdout",
       "text": [
        "84 85 "
       ]
      },
      {
       "output_type": "stream",
       "stream": "stdout",
       "text": [
        "86 87 "
       ]
      },
      {
       "output_type": "stream",
       "stream": "stdout",
       "text": [
        "88 89 "
       ]
      },
      {
       "output_type": "stream",
       "stream": "stdout",
       "text": [
        "90 91 "
       ]
      },
      {
       "output_type": "stream",
       "stream": "stdout",
       "text": [
        "92 93 "
       ]
      },
      {
       "output_type": "stream",
       "stream": "stdout",
       "text": [
        "94 95 "
       ]
      },
      {
       "output_type": "stream",
       "stream": "stdout",
       "text": [
        "96 97 "
       ]
      },
      {
       "output_type": "stream",
       "stream": "stdout",
       "text": [
        "98 99 "
       ]
      },
      {
       "output_type": "stream",
       "stream": "stdout",
       "text": [
        "100 101 "
       ]
      },
      {
       "output_type": "stream",
       "stream": "stdout",
       "text": [
        "102 103 "
       ]
      },
      {
       "output_type": "stream",
       "stream": "stdout",
       "text": [
        "104 105 "
       ]
      },
      {
       "output_type": "stream",
       "stream": "stdout",
       "text": [
        "106 107 "
       ]
      },
      {
       "output_type": "stream",
       "stream": "stdout",
       "text": [
        "108 109 "
       ]
      },
      {
       "output_type": "stream",
       "stream": "stdout",
       "text": [
        "110 111 "
       ]
      },
      {
       "output_type": "stream",
       "stream": "stdout",
       "text": [
        "112 113 "
       ]
      },
      {
       "output_type": "stream",
       "stream": "stdout",
       "text": [
        "114 115 "
       ]
      },
      {
       "output_type": "stream",
       "stream": "stdout",
       "text": [
        "116 117 "
       ]
      },
      {
       "output_type": "stream",
       "stream": "stdout",
       "text": [
        "118 119 "
       ]
      },
      {
       "output_type": "stream",
       "stream": "stdout",
       "text": [
        "120 121 "
       ]
      },
      {
       "output_type": "stream",
       "stream": "stdout",
       "text": [
        "122 123 "
       ]
      },
      {
       "output_type": "stream",
       "stream": "stdout",
       "text": [
        "124 125 "
       ]
      },
      {
       "output_type": "stream",
       "stream": "stdout",
       "text": [
        "126 127 "
       ]
      },
      {
       "output_type": "stream",
       "stream": "stdout",
       "text": [
        "128 129 "
       ]
      },
      {
       "output_type": "stream",
       "stream": "stdout",
       "text": [
        "130 131 "
       ]
      },
      {
       "output_type": "stream",
       "stream": "stdout",
       "text": [
        "132 133 "
       ]
      },
      {
       "output_type": "stream",
       "stream": "stdout",
       "text": [
        "134 135 "
       ]
      },
      {
       "output_type": "stream",
       "stream": "stdout",
       "text": [
        "136 137 "
       ]
      },
      {
       "output_type": "stream",
       "stream": "stdout",
       "text": [
        "138 139 "
       ]
      },
      {
       "output_type": "stream",
       "stream": "stdout",
       "text": [
        "140 141 "
       ]
      },
      {
       "output_type": "stream",
       "stream": "stdout",
       "text": [
        "142 143 "
       ]
      },
      {
       "output_type": "stream",
       "stream": "stdout",
       "text": [
        "144 145 "
       ]
      },
      {
       "output_type": "stream",
       "stream": "stdout",
       "text": [
        "146 147 "
       ]
      },
      {
       "output_type": "stream",
       "stream": "stdout",
       "text": [
        "148 149 "
       ]
      },
      {
       "output_type": "stream",
       "stream": "stdout",
       "text": [
        "150 151 "
       ]
      },
      {
       "output_type": "stream",
       "stream": "stdout",
       "text": [
        "152 153 "
       ]
      },
      {
       "output_type": "stream",
       "stream": "stdout",
       "text": [
        "154 155 "
       ]
      },
      {
       "output_type": "stream",
       "stream": "stdout",
       "text": [
        "156 157 "
       ]
      },
      {
       "output_type": "stream",
       "stream": "stdout",
       "text": [
        "158 159 "
       ]
      },
      {
       "output_type": "stream",
       "stream": "stdout",
       "text": [
        "160 161 "
       ]
      },
      {
       "output_type": "stream",
       "stream": "stdout",
       "text": [
        "162 163 "
       ]
      },
      {
       "output_type": "stream",
       "stream": "stdout",
       "text": [
        "164 165 "
       ]
      },
      {
       "output_type": "stream",
       "stream": "stdout",
       "text": [
        "166 167 "
       ]
      },
      {
       "output_type": "stream",
       "stream": "stdout",
       "text": [
        "168 169 "
       ]
      },
      {
       "output_type": "stream",
       "stream": "stdout",
       "text": [
        "170 171 "
       ]
      },
      {
       "output_type": "stream",
       "stream": "stdout",
       "text": [
        "172 173 "
       ]
      },
      {
       "output_type": "stream",
       "stream": "stdout",
       "text": [
        "174 175 "
       ]
      },
      {
       "output_type": "stream",
       "stream": "stdout",
       "text": [
        "176 177 "
       ]
      },
      {
       "output_type": "stream",
       "stream": "stdout",
       "text": [
        "178 179 "
       ]
      },
      {
       "output_type": "stream",
       "stream": "stdout",
       "text": [
        "180 181 "
       ]
      },
      {
       "output_type": "stream",
       "stream": "stdout",
       "text": [
        "182 183 "
       ]
      },
      {
       "output_type": "stream",
       "stream": "stdout",
       "text": [
        "184 185 "
       ]
      },
      {
       "output_type": "stream",
       "stream": "stdout",
       "text": [
        "186 187 "
       ]
      },
      {
       "output_type": "stream",
       "stream": "stdout",
       "text": [
        "188 189 "
       ]
      },
      {
       "output_type": "stream",
       "stream": "stdout",
       "text": [
        "190 191 "
       ]
      },
      {
       "output_type": "stream",
       "stream": "stdout",
       "text": [
        "192 193 "
       ]
      },
      {
       "output_type": "stream",
       "stream": "stdout",
       "text": [
        "194 195 "
       ]
      },
      {
       "output_type": "stream",
       "stream": "stdout",
       "text": [
        "196 197 "
       ]
      },
      {
       "output_type": "stream",
       "stream": "stdout",
       "text": [
        "198 199 "
       ]
      },
      {
       "output_type": "stream",
       "stream": "stdout",
       "text": [
        "200 201 "
       ]
      },
      {
       "output_type": "stream",
       "stream": "stdout",
       "text": [
        "202 203 "
       ]
      },
      {
       "output_type": "stream",
       "stream": "stdout",
       "text": [
        "204 205 "
       ]
      },
      {
       "output_type": "stream",
       "stream": "stdout",
       "text": [
        "206 207 "
       ]
      },
      {
       "output_type": "stream",
       "stream": "stdout",
       "text": [
        "208 209 "
       ]
      },
      {
       "output_type": "stream",
       "stream": "stdout",
       "text": [
        "210 211 "
       ]
      },
      {
       "output_type": "stream",
       "stream": "stdout",
       "text": [
        "212 213 "
       ]
      },
      {
       "output_type": "stream",
       "stream": "stdout",
       "text": [
        "214 215 "
       ]
      },
      {
       "output_type": "stream",
       "stream": "stdout",
       "text": [
        "216 217 "
       ]
      },
      {
       "output_type": "stream",
       "stream": "stdout",
       "text": [
        "218 219 "
       ]
      },
      {
       "output_type": "stream",
       "stream": "stdout",
       "text": [
        "220 221 "
       ]
      },
      {
       "output_type": "stream",
       "stream": "stdout",
       "text": [
        "222 223 "
       ]
      },
      {
       "output_type": "stream",
       "stream": "stdout",
       "text": [
        "224 225 "
       ]
      },
      {
       "output_type": "stream",
       "stream": "stdout",
       "text": [
        "226 227 "
       ]
      },
      {
       "output_type": "stream",
       "stream": "stdout",
       "text": [
        "228 229 "
       ]
      },
      {
       "output_type": "stream",
       "stream": "stdout",
       "text": [
        "230 231 "
       ]
      },
      {
       "output_type": "stream",
       "stream": "stdout",
       "text": [
        "232 233 "
       ]
      },
      {
       "output_type": "stream",
       "stream": "stdout",
       "text": [
        "234 235 "
       ]
      },
      {
       "output_type": "stream",
       "stream": "stdout",
       "text": [
        "236 237 "
       ]
      },
      {
       "output_type": "stream",
       "stream": "stdout",
       "text": [
        "238 239 "
       ]
      },
      {
       "output_type": "stream",
       "stream": "stdout",
       "text": [
        "240 241 "
       ]
      },
      {
       "output_type": "stream",
       "stream": "stdout",
       "text": [
        "242 243 "
       ]
      },
      {
       "output_type": "stream",
       "stream": "stdout",
       "text": [
        "244 245 "
       ]
      },
      {
       "output_type": "stream",
       "stream": "stdout",
       "text": [
        "246 247 "
       ]
      },
      {
       "output_type": "stream",
       "stream": "stdout",
       "text": [
        "248 249 "
       ]
      },
      {
       "output_type": "stream",
       "stream": "stdout",
       "text": [
        "250 251 "
       ]
      },
      {
       "output_type": "stream",
       "stream": "stdout",
       "text": [
        "252 253 "
       ]
      },
      {
       "output_type": "stream",
       "stream": "stdout",
       "text": [
        "254 255 "
       ]
      },
      {
       "output_type": "stream",
       "stream": "stdout",
       "text": [
        "256 257 "
       ]
      },
      {
       "output_type": "stream",
       "stream": "stdout",
       "text": [
        "258 259 "
       ]
      },
      {
       "output_type": "stream",
       "stream": "stdout",
       "text": [
        "260 261 "
       ]
      },
      {
       "output_type": "stream",
       "stream": "stdout",
       "text": [
        "262 263 "
       ]
      },
      {
       "output_type": "stream",
       "stream": "stdout",
       "text": [
        "264 265 "
       ]
      },
      {
       "output_type": "stream",
       "stream": "stdout",
       "text": [
        "266 267 "
       ]
      },
      {
       "output_type": "stream",
       "stream": "stdout",
       "text": [
        "268 269 "
       ]
      },
      {
       "output_type": "stream",
       "stream": "stdout",
       "text": [
        "270 271 "
       ]
      },
      {
       "output_type": "stream",
       "stream": "stdout",
       "text": [
        "272 273 "
       ]
      },
      {
       "output_type": "stream",
       "stream": "stdout",
       "text": [
        "274 275 "
       ]
      },
      {
       "output_type": "stream",
       "stream": "stdout",
       "text": [
        "276 277 "
       ]
      },
      {
       "output_type": "stream",
       "stream": "stdout",
       "text": [
        "278 279 "
       ]
      },
      {
       "output_type": "stream",
       "stream": "stdout",
       "text": [
        "280 281 "
       ]
      },
      {
       "output_type": "stream",
       "stream": "stdout",
       "text": [
        "282 283 "
       ]
      },
      {
       "output_type": "stream",
       "stream": "stdout",
       "text": [
        "284 285 "
       ]
      },
      {
       "output_type": "stream",
       "stream": "stdout",
       "text": [
        "286 287 "
       ]
      },
      {
       "output_type": "stream",
       "stream": "stdout",
       "text": [
        "288 289 "
       ]
      },
      {
       "output_type": "stream",
       "stream": "stdout",
       "text": [
        "290 291 "
       ]
      },
      {
       "output_type": "stream",
       "stream": "stdout",
       "text": [
        "292 293 "
       ]
      },
      {
       "output_type": "stream",
       "stream": "stdout",
       "text": [
        "294 295 "
       ]
      },
      {
       "output_type": "stream",
       "stream": "stdout",
       "text": [
        "296 297 "
       ]
      },
      {
       "output_type": "stream",
       "stream": "stdout",
       "text": [
        "298 299 "
       ]
      },
      {
       "output_type": "stream",
       "stream": "stdout",
       "text": [
        "300 301 "
       ]
      },
      {
       "output_type": "stream",
       "stream": "stdout",
       "text": [
        "302 303 "
       ]
      },
      {
       "output_type": "stream",
       "stream": "stdout",
       "text": [
        "304 305 "
       ]
      },
      {
       "output_type": "stream",
       "stream": "stdout",
       "text": [
        "306 307 "
       ]
      },
      {
       "output_type": "stream",
       "stream": "stdout",
       "text": [
        "308 309 "
       ]
      },
      {
       "output_type": "stream",
       "stream": "stdout",
       "text": [
        "310 311 "
       ]
      },
      {
       "output_type": "stream",
       "stream": "stdout",
       "text": [
        "312 313 "
       ]
      },
      {
       "output_type": "stream",
       "stream": "stdout",
       "text": [
        "314 315 "
       ]
      },
      {
       "output_type": "stream",
       "stream": "stdout",
       "text": [
        "316 317 "
       ]
      },
      {
       "output_type": "stream",
       "stream": "stdout",
       "text": [
        "318 319 "
       ]
      },
      {
       "output_type": "stream",
       "stream": "stdout",
       "text": [
        "320 321 "
       ]
      },
      {
       "output_type": "stream",
       "stream": "stdout",
       "text": [
        "322 323 "
       ]
      },
      {
       "output_type": "stream",
       "stream": "stdout",
       "text": [
        "324 325 "
       ]
      },
      {
       "output_type": "stream",
       "stream": "stdout",
       "text": [
        "326 327 "
       ]
      },
      {
       "output_type": "stream",
       "stream": "stdout",
       "text": [
        "328 329 "
       ]
      },
      {
       "output_type": "stream",
       "stream": "stdout",
       "text": [
        "330 331 "
       ]
      },
      {
       "output_type": "stream",
       "stream": "stdout",
       "text": [
        "332 333 "
       ]
      },
      {
       "output_type": "stream",
       "stream": "stdout",
       "text": [
        "334 335 "
       ]
      },
      {
       "output_type": "stream",
       "stream": "stdout",
       "text": [
        "336 337 "
       ]
      },
      {
       "output_type": "stream",
       "stream": "stdout",
       "text": [
        "338 339 "
       ]
      },
      {
       "output_type": "stream",
       "stream": "stdout",
       "text": [
        "340 341 "
       ]
      },
      {
       "output_type": "stream",
       "stream": "stdout",
       "text": [
        "342 343 "
       ]
      },
      {
       "output_type": "stream",
       "stream": "stdout",
       "text": [
        "344 345 "
       ]
      },
      {
       "output_type": "stream",
       "stream": "stdout",
       "text": [
        "346 347 "
       ]
      },
      {
       "output_type": "stream",
       "stream": "stdout",
       "text": [
        "348 349 "
       ]
      },
      {
       "output_type": "stream",
       "stream": "stdout",
       "text": [
        "350 351 "
       ]
      },
      {
       "output_type": "stream",
       "stream": "stdout",
       "text": [
        "352 353 "
       ]
      },
      {
       "output_type": "stream",
       "stream": "stdout",
       "text": [
        "354 355 "
       ]
      },
      {
       "output_type": "stream",
       "stream": "stdout",
       "text": [
        "356 357 "
       ]
      },
      {
       "output_type": "stream",
       "stream": "stdout",
       "text": [
        "358 359 "
       ]
      },
      {
       "output_type": "stream",
       "stream": "stdout",
       "text": [
        "360 361 "
       ]
      },
      {
       "output_type": "stream",
       "stream": "stdout",
       "text": [
        "362 363 "
       ]
      },
      {
       "output_type": "stream",
       "stream": "stdout",
       "text": [
        "364 365 "
       ]
      },
      {
       "output_type": "stream",
       "stream": "stdout",
       "text": [
        "366 367 "
       ]
      },
      {
       "output_type": "stream",
       "stream": "stdout",
       "text": [
        "368 369 "
       ]
      },
      {
       "output_type": "stream",
       "stream": "stdout",
       "text": [
        "370 371 "
       ]
      },
      {
       "output_type": "stream",
       "stream": "stdout",
       "text": [
        "372 373 "
       ]
      },
      {
       "output_type": "stream",
       "stream": "stdout",
       "text": [
        "374 375 "
       ]
      },
      {
       "output_type": "stream",
       "stream": "stdout",
       "text": [
        "376 377 "
       ]
      },
      {
       "output_type": "stream",
       "stream": "stdout",
       "text": [
        "378 379 "
       ]
      },
      {
       "output_type": "stream",
       "stream": "stdout",
       "text": [
        "380 381 "
       ]
      },
      {
       "output_type": "stream",
       "stream": "stdout",
       "text": [
        "382 383 "
       ]
      },
      {
       "output_type": "stream",
       "stream": "stdout",
       "text": [
        "384 385 "
       ]
      },
      {
       "output_type": "stream",
       "stream": "stdout",
       "text": [
        "386 387 "
       ]
      },
      {
       "output_type": "stream",
       "stream": "stdout",
       "text": [
        "388 389 "
       ]
      },
      {
       "output_type": "stream",
       "stream": "stdout",
       "text": [
        "390 391 "
       ]
      },
      {
       "output_type": "stream",
       "stream": "stdout",
       "text": [
        "392 393 "
       ]
      },
      {
       "output_type": "stream",
       "stream": "stdout",
       "text": [
        "394 395 "
       ]
      },
      {
       "output_type": "stream",
       "stream": "stdout",
       "text": [
        "396 397 "
       ]
      },
      {
       "output_type": "stream",
       "stream": "stdout",
       "text": [
        "398 399 "
       ]
      },
      {
       "output_type": "stream",
       "stream": "stdout",
       "text": [
        "400 401 "
       ]
      },
      {
       "output_type": "stream",
       "stream": "stdout",
       "text": [
        "402 403 "
       ]
      },
      {
       "output_type": "stream",
       "stream": "stdout",
       "text": [
        "404 405 "
       ]
      },
      {
       "output_type": "stream",
       "stream": "stdout",
       "text": [
        "406 407 "
       ]
      },
      {
       "output_type": "stream",
       "stream": "stdout",
       "text": [
        "408 409 "
       ]
      },
      {
       "output_type": "stream",
       "stream": "stdout",
       "text": [
        "410 411 "
       ]
      },
      {
       "output_type": "stream",
       "stream": "stdout",
       "text": [
        "412 413 "
       ]
      },
      {
       "output_type": "stream",
       "stream": "stdout",
       "text": [
        "414 415 "
       ]
      },
      {
       "output_type": "stream",
       "stream": "stdout",
       "text": [
        "416 417 "
       ]
      },
      {
       "output_type": "stream",
       "stream": "stdout",
       "text": [
        "418 419 "
       ]
      },
      {
       "output_type": "stream",
       "stream": "stdout",
       "text": [
        "420 421 "
       ]
      },
      {
       "output_type": "stream",
       "stream": "stdout",
       "text": [
        "422 423 "
       ]
      },
      {
       "output_type": "stream",
       "stream": "stdout",
       "text": [
        "424 425 "
       ]
      },
      {
       "output_type": "stream",
       "stream": "stdout",
       "text": [
        "426 427 "
       ]
      },
      {
       "output_type": "stream",
       "stream": "stdout",
       "text": [
        "428 429 "
       ]
      },
      {
       "output_type": "stream",
       "stream": "stdout",
       "text": [
        "430 431 "
       ]
      },
      {
       "output_type": "stream",
       "stream": "stdout",
       "text": [
        "432 433 "
       ]
      },
      {
       "output_type": "stream",
       "stream": "stdout",
       "text": [
        "434 435 "
       ]
      },
      {
       "output_type": "stream",
       "stream": "stdout",
       "text": [
        "436 437 "
       ]
      },
      {
       "output_type": "stream",
       "stream": "stdout",
       "text": [
        "438 439 "
       ]
      },
      {
       "output_type": "stream",
       "stream": "stdout",
       "text": [
        "440 441 "
       ]
      },
      {
       "output_type": "stream",
       "stream": "stdout",
       "text": [
        "442 443 "
       ]
      },
      {
       "output_type": "stream",
       "stream": "stdout",
       "text": [
        "444 445 "
       ]
      },
      {
       "output_type": "stream",
       "stream": "stdout",
       "text": [
        "446 447 "
       ]
      },
      {
       "output_type": "stream",
       "stream": "stdout",
       "text": [
        "448 449 "
       ]
      },
      {
       "output_type": "stream",
       "stream": "stdout",
       "text": [
        "450 451 "
       ]
      },
      {
       "output_type": "stream",
       "stream": "stdout",
       "text": [
        "452 453 "
       ]
      },
      {
       "output_type": "stream",
       "stream": "stdout",
       "text": [
        "454 455 "
       ]
      },
      {
       "output_type": "stream",
       "stream": "stdout",
       "text": [
        "456 457 "
       ]
      },
      {
       "output_type": "stream",
       "stream": "stdout",
       "text": [
        "458 459 "
       ]
      },
      {
       "output_type": "stream",
       "stream": "stdout",
       "text": [
        "460 461 "
       ]
      },
      {
       "output_type": "stream",
       "stream": "stdout",
       "text": [
        "462 463 "
       ]
      },
      {
       "output_type": "stream",
       "stream": "stdout",
       "text": [
        "464 465 "
       ]
      },
      {
       "output_type": "stream",
       "stream": "stdout",
       "text": [
        "466 467 "
       ]
      },
      {
       "output_type": "stream",
       "stream": "stdout",
       "text": [
        "468 469 "
       ]
      },
      {
       "output_type": "stream",
       "stream": "stdout",
       "text": [
        "470 471 "
       ]
      },
      {
       "output_type": "stream",
       "stream": "stdout",
       "text": [
        "472 473 "
       ]
      },
      {
       "output_type": "stream",
       "stream": "stdout",
       "text": [
        "474 475 "
       ]
      },
      {
       "output_type": "stream",
       "stream": "stdout",
       "text": [
        "476 477 "
       ]
      },
      {
       "output_type": "stream",
       "stream": "stdout",
       "text": [
        "478 479 "
       ]
      },
      {
       "output_type": "stream",
       "stream": "stdout",
       "text": [
        "480 481 "
       ]
      },
      {
       "output_type": "stream",
       "stream": "stdout",
       "text": [
        "482 483 "
       ]
      },
      {
       "output_type": "stream",
       "stream": "stdout",
       "text": [
        "484 485 "
       ]
      },
      {
       "output_type": "stream",
       "stream": "stdout",
       "text": [
        "486 487 "
       ]
      },
      {
       "output_type": "stream",
       "stream": "stdout",
       "text": [
        "488 489 "
       ]
      },
      {
       "output_type": "stream",
       "stream": "stdout",
       "text": [
        "490 491 "
       ]
      },
      {
       "output_type": "stream",
       "stream": "stdout",
       "text": [
        "492 493 "
       ]
      },
      {
       "output_type": "stream",
       "stream": "stdout",
       "text": [
        "494 495 "
       ]
      },
      {
       "output_type": "stream",
       "stream": "stdout",
       "text": [
        "496 497 "
       ]
      },
      {
       "output_type": "stream",
       "stream": "stdout",
       "text": [
        "498 499 "
       ]
      },
      {
       "metadata": {},
       "output_type": "pyout",
       "prompt_number": 66,
       "text": [
        "<matplotlib.collections.PathCollection at 0x1101896d0>"
       ]
      },
      {
       "metadata": {},
       "output_type": "display_data",
       "png": "[encoded data removed]",
       "text": [
        "<matplotlib.figure.Figure at 0x11016b950>"
       ]
      }
     ],
     "prompt_number": "*"
    },
    {
     "cell_type": "code",
     "collapsed": false,
     "input": [
      "with open('r_comp_sim.pkl', 'w') as f:\n",
      "    pickle.dump(r_comp_sim, f)\n",
      "with open('r_comp_sim_err.pkl', 'w') as f:\n",
      "    pickle.dump(r_comp_sim_err, f)\n",
      "\n",
      "r_comp_sim_err_df = pd.DataFrame(r_comp_sim_err)\n",
      "r_comp_sim_err_df.columns = ['num_query', 'random_comp']\n",
      "r_comp_df_by_query = r_comp_dsim_err_df.groupby('num_query')\n",
      "r_comp_df_mean = r_comp_df_by_query.mean()\n",
      "r_comp_df_mean.plot()\n",
      "r_comp_df_median = r_comp_df_by_query.median()"
     ],
     "language": "python",
     "metadata": {},
     "outputs": [
      {
       "metadata": {},
       "output_type": "display_data",
       "png": "[encoded data removed]",
       "text": [
        "<matplotlib.figure.Figure at 0x110154290>"
       ]
      }
     ],
     "prompt_number": "*"
    },
    {
     "cell_type": "code",
     "collapsed": false,
     "input": [
      "# random odd out question\n",
      "r_odd_out = rk.RandomOddKernelTest(labels, [(1,2,3)], 2, 0.5, points, 500)\n",
      "r_odd_out.loop_auto()\n",
      "r_odd_out_err = r_odd_out.get_error_array()\n",
      "plt.scatter(r_odd_out_err[:,0], r_odd_out_err[:,1], alpha=0.25)"
     ],
     "language": "python",
     "metadata": {},
     "outputs": [
      {
       "output_type": "stream",
       "stream": "stdout",
       "text": [
        "0 1 2 3 "
       ]
      },
      {
       "output_type": "stream",
       "stream": "stdout",
       "text": [
        "4 5 "
       ]
      },
      {
       "output_type": "stream",
       "stream": "stdout",
       "text": [
        "6 7 "
       ]
      },
      {
       "output_type": "stream",
       "stream": "stdout",
       "text": [
        "8 9 "
       ]
      },
      {
       "output_type": "stream",
       "stream": "stdout",
       "text": [
        "10 11 "
       ]
      },
      {
       "output_type": "stream",
       "stream": "stdout",
       "text": [
        "12 13 "
       ]
      },
      {
       "output_type": "stream",
       "stream": "stdout",
       "text": [
        "14 15 "
       ]
      },
      {
       "output_type": "stream",
       "stream": "stdout",
       "text": [
        "16 17 "
       ]
      },
      {
       "output_type": "stream",
       "stream": "stdout",
       "text": [
        "18 19 "
       ]
      },
      {
       "output_type": "stream",
       "stream": "stdout",
       "text": [
        "20 21 "
       ]
      },
      {
       "output_type": "stream",
       "stream": "stdout",
       "text": [
        "22 23 "
       ]
      },
      {
       "output_type": "stream",
       "stream": "stdout",
       "text": [
        "24 25 "
       ]
      },
      {
       "output_type": "stream",
       "stream": "stdout",
       "text": [
        "26 27 "
       ]
      },
      {
       "output_type": "stream",
       "stream": "stdout",
       "text": [
        "28 29 "
       ]
      },
      {
       "output_type": "stream",
       "stream": "stdout",
       "text": [
        "30 31 "
       ]
      },
      {
       "output_type": "stream",
       "stream": "stdout",
       "text": [
        "32 33 "
       ]
      },
      {
       "output_type": "stream",
       "stream": "stdout",
       "text": [
        "34 35 "
       ]
      },
      {
       "output_type": "stream",
       "stream": "stdout",
       "text": [
        "36 37 "
       ]
      },
      {
       "output_type": "stream",
       "stream": "stdout",
       "text": [
        "38 39 "
       ]
      },
      {
       "output_type": "stream",
       "stream": "stdout",
       "text": [
        "40 41 "
       ]
      },
      {
       "output_type": "stream",
       "stream": "stdout",
       "text": [
        "42 43 "
       ]
      },
      {
       "output_type": "stream",
       "stream": "stdout",
       "text": [
        "44 45 "
       ]
      },
      {
       "output_type": "stream",
       "stream": "stdout",
       "text": [
        "46 47 "
       ]
      },
      {
       "output_type": "stream",
       "stream": "stdout",
       "text": [
        "48 49 "
       ]
      },
      {
       "output_type": "stream",
       "stream": "stdout",
       "text": [
        "50 51 "
       ]
      },
      {
       "output_type": "stream",
       "stream": "stdout",
       "text": [
        "52 53 "
       ]
      },
      {
       "output_type": "stream",
       "stream": "stdout",
       "text": [
        "54 55 "
       ]
      },
      {
       "output_type": "stream",
       "stream": "stdout",
       "text": [
        "56 57 "
       ]
      },
      {
       "output_type": "stream",
       "stream": "stdout",
       "text": [
        "58 59 "
       ]
      },
      {
       "output_type": "stream",
       "stream": "stdout",
       "text": [
        "60 61 "
       ]
      },
      {
       "output_type": "stream",
       "stream": "stdout",
       "text": [
        "62 63 "
       ]
      },
      {
       "output_type": "stream",
       "stream": "stdout",
       "text": [
        "64 65 "
       ]
      },
      {
       "output_type": "stream",
       "stream": "stdout",
       "text": [
        "66 67 "
       ]
      },
      {
       "output_type": "stream",
       "stream": "stdout",
       "text": [
        "68 69 "
       ]
      },
      {
       "output_type": "stream",
       "stream": "stdout",
       "text": [
        "70 71 "
       ]
      },
      {
       "output_type": "stream",
       "stream": "stdout",
       "text": [
        "72 73 "
       ]
      },
      {
       "output_type": "stream",
       "stream": "stdout",
       "text": [
        "74 75 "
       ]
      },
      {
       "output_type": "stream",
       "stream": "stdout",
       "text": [
        "76 77 "
       ]
      },
      {
       "output_type": "stream",
       "stream": "stdout",
       "text": [
        "78 79 "
       ]
      },
      {
       "output_type": "stream",
       "stream": "stdout",
       "text": [
        "80 81 "
       ]
      },
      {
       "output_type": "stream",
       "stream": "stdout",
       "text": [
        "82 83 "
       ]
      },
      {
       "output_type": "stream",
       "stream": "stdout",
       "text": [
        "84 85 "
       ]
      },
      {
       "output_type": "stream",
       "stream": "stdout",
       "text": [
        "86 87 "
       ]
      },
      {
       "output_type": "stream",
       "stream": "stdout",
       "text": [
        "88 89 "
       ]
      },
      {
       "output_type": "stream",
       "stream": "stdout",
       "text": [
        "90 91 "
       ]
      },
      {
       "output_type": "stream",
       "stream": "stdout",
       "text": [
        "92 93 "
       ]
      },
      {
       "output_type": "stream",
       "stream": "stdout",
       "text": [
        "94 95 "
       ]
      },
      {
       "output_type": "stream",
       "stream": "stdout",
       "text": [
        "96 97 "
       ]
      },
      {
       "output_type": "stream",
       "stream": "stdout",
       "text": [
        "98 99 "
       ]
      },
      {
       "output_type": "stream",
       "stream": "stdout",
       "text": [
        "100 101 "
       ]
      },
      {
       "output_type": "stream",
       "stream": "stdout",
       "text": [
        "102 103 "
       ]
      },
      {
       "output_type": "stream",
       "stream": "stdout",
       "text": [
        "104 105 "
       ]
      },
      {
       "output_type": "stream",
       "stream": "stdout",
       "text": [
        "106 107 "
       ]
      },
      {
       "output_type": "stream",
       "stream": "stdout",
       "text": [
        "108 109 "
       ]
      },
      {
       "output_type": "stream",
       "stream": "stdout",
       "text": [
        "110 111 "
       ]
      },
      {
       "output_type": "stream",
       "stream": "stdout",
       "text": [
        "112 113 "
       ]
      },
      {
       "output_type": "stream",
       "stream": "stdout",
       "text": [
        "114 115 "
       ]
      },
      {
       "output_type": "stream",
       "stream": "stdout",
       "text": [
        "116 117 "
       ]
      },
      {
       "output_type": "stream",
       "stream": "stdout",
       "text": [
        "118 119 "
       ]
      },
      {
       "output_type": "stream",
       "stream": "stdout",
       "text": [
        "120 121 "
       ]
      },
      {
       "output_type": "stream",
       "stream": "stdout",
       "text": [
        "122 123 "
       ]
      },
      {
       "output_type": "stream",
       "stream": "stdout",
       "text": [
        "124 125 "
       ]
      },
      {
       "output_type": "stream",
       "stream": "stdout",
       "text": [
        "126 127 "
       ]
      },
      {
       "output_type": "stream",
       "stream": "stdout",
       "text": [
        "128 129 "
       ]
      },
      {
       "output_type": "stream",
       "stream": "stdout",
       "text": [
        "130 131 "
       ]
      },
      {
       "output_type": "stream",
       "stream": "stdout",
       "text": [
        "132 133 "
       ]
      },
      {
       "output_type": "stream",
       "stream": "stdout",
       "text": [
        "134 135 "
       ]
      },
      {
       "output_type": "stream",
       "stream": "stdout",
       "text": [
        "136 137 "
       ]
      },
      {
       "output_type": "stream",
       "stream": "stdout",
       "text": [
        "138 139 "
       ]
      },
      {
       "output_type": "stream",
       "stream": "stdout",
       "text": [
        "140 141 "
       ]
      },
      {
       "output_type": "stream",
       "stream": "stdout",
       "text": [
        "142 143 "
       ]
      },
      {
       "output_type": "stream",
       "stream": "stdout",
       "text": [
        "144 145 "
       ]
      },
      {
       "output_type": "stream",
       "stream": "stdout",
       "text": [
        "146 147 "
       ]
      },
      {
       "output_type": "stream",
       "stream": "stdout",
       "text": [
        "148 149 "
       ]
      },
      {
       "output_type": "stream",
       "stream": "stdout",
       "text": [
        "150 151 "
       ]
      },
      {
       "output_type": "stream",
       "stream": "stdout",
       "text": [
        "152 153 "
       ]
      },
      {
       "output_type": "stream",
       "stream": "stdout",
       "text": [
        "154 155 "
       ]
      },
      {
       "output_type": "stream",
       "stream": "stdout",
       "text": [
        "156 157 "
       ]
      },
      {
       "output_type": "stream",
       "stream": "stdout",
       "text": [
        "158 159 "
       ]
      },
      {
       "output_type": "stream",
       "stream": "stdout",
       "text": [
        "160 161 "
       ]
      },
      {
       "output_type": "stream",
       "stream": "stdout",
       "text": [
        "162 163 "
       ]
      },
      {
       "output_type": "stream",
       "stream": "stdout",
       "text": [
        "164 165 "
       ]
      },
      {
       "output_type": "stream",
       "stream": "stdout",
       "text": [
        "166 167 "
       ]
      },
      {
       "output_type": "stream",
       "stream": "stdout",
       "text": [
        "168 169 "
       ]
      },
      {
       "output_type": "stream",
       "stream": "stdout",
       "text": [
        "170 171 "
       ]
      },
      {
       "output_type": "stream",
       "stream": "stdout",
       "text": [
        "172 173 "
       ]
      },
      {
       "output_type": "stream",
       "stream": "stdout",
       "text": [
        "174 175 "
       ]
      },
      {
       "output_type": "stream",
       "stream": "stdout",
       "text": [
        "176 177 "
       ]
      },
      {
       "output_type": "stream",
       "stream": "stdout",
       "text": [
        "178 179 "
       ]
      },
      {
       "output_type": "stream",
       "stream": "stdout",
       "text": [
        "180 181 "
       ]
      },
      {
       "output_type": "stream",
       "stream": "stdout",
       "text": [
        "182 183 "
       ]
      },
      {
       "output_type": "stream",
       "stream": "stdout",
       "text": [
        "184 185 "
       ]
      },
      {
       "output_type": "stream",
       "stream": "stdout",
       "text": [
        "186 187 "
       ]
      },
      {
       "output_type": "stream",
       "stream": "stdout",
       "text": [
        "188 189 "
       ]
      },
      {
       "output_type": "stream",
       "stream": "stdout",
       "text": [
        "190 191 "
       ]
      },
      {
       "output_type": "stream",
       "stream": "stdout",
       "text": [
        "192 193 "
       ]
      },
      {
       "output_type": "stream",
       "stream": "stdout",
       "text": [
        "194 195 "
       ]
      },
      {
       "output_type": "stream",
       "stream": "stdout",
       "text": [
        "196 197 "
       ]
      },
      {
       "output_type": "stream",
       "stream": "stdout",
       "text": [
        "198 199 "
       ]
      },
      {
       "output_type": "stream",
       "stream": "stdout",
       "text": [
        "200 201 "
       ]
      },
      {
       "output_type": "stream",
       "stream": "stdout",
       "text": [
        "202 203 "
       ]
      },
      {
       "output_type": "stream",
       "stream": "stdout",
       "text": [
        "204 205 "
       ]
      },
      {
       "output_type": "stream",
       "stream": "stdout",
       "text": [
        "206 207 "
       ]
      },
      {
       "output_type": "stream",
       "stream": "stdout",
       "text": [
        "208 209 "
       ]
      },
      {
       "output_type": "stream",
       "stream": "stdout",
       "text": [
        "210 211 "
       ]
      },
      {
       "output_type": "stream",
       "stream": "stdout",
       "text": [
        "212 213 "
       ]
      },
      {
       "output_type": "stream",
       "stream": "stdout",
       "text": [
        "214 215 "
       ]
      },
      {
       "output_type": "stream",
       "stream": "stdout",
       "text": [
        "216 217 "
       ]
      },
      {
       "output_type": "stream",
       "stream": "stdout",
       "text": [
        "218 219 "
       ]
      },
      {
       "output_type": "stream",
       "stream": "stdout",
       "text": [
        "220 221 "
       ]
      },
      {
       "output_type": "stream",
       "stream": "stdout",
       "text": [
        "222 223 "
       ]
      },
      {
       "output_type": "stream",
       "stream": "stdout",
       "text": [
        "224 225 "
       ]
      },
      {
       "output_type": "stream",
       "stream": "stdout",
       "text": [
        "226 227 "
       ]
      },
      {
       "output_type": "stream",
       "stream": "stdout",
       "text": [
        "228 229 "
       ]
      },
      {
       "output_type": "stream",
       "stream": "stdout",
       "text": [
        "230 231 "
       ]
      },
      {
       "output_type": "stream",
       "stream": "stdout",
       "text": [
        "232 233 "
       ]
      },
      {
       "output_type": "stream",
       "stream": "stdout",
       "text": [
        "234 235 "
       ]
      },
      {
       "output_type": "stream",
       "stream": "stdout",
       "text": [
        "236 237 "
       ]
      },
      {
       "output_type": "stream",
       "stream": "stdout",
       "text": [
        "238 239 "
       ]
      },
      {
       "output_type": "stream",
       "stream": "stdout",
       "text": [
        "240 241 "
       ]
      },
      {
       "output_type": "stream",
       "stream": "stdout",
       "text": [
        "242 243 "
       ]
      },
      {
       "output_type": "stream",
       "stream": "stdout",
       "text": [
        "244 245 "
       ]
      },
      {
       "output_type": "stream",
       "stream": "stdout",
       "text": [
        "246 247 "
       ]
      },
      {
       "output_type": "stream",
       "stream": "stdout",
       "text": [
        "248 249 "
       ]
      },
      {
       "output_type": "stream",
       "stream": "stdout",
       "text": [
        "250 251 "
       ]
      },
      {
       "output_type": "stream",
       "stream": "stdout",
       "text": [
        "252 253 "
       ]
      },
      {
       "output_type": "stream",
       "stream": "stdout",
       "text": [
        "254 255 "
       ]
      },
      {
       "output_type": "stream",
       "stream": "stdout",
       "text": [
        "256 257 "
       ]
      },
      {
       "output_type": "stream",
       "stream": "stdout",
       "text": [
        "258 259 "
       ]
      },
      {
       "output_type": "stream",
       "stream": "stdout",
       "text": [
        "260 261 "
       ]
      },
      {
       "output_type": "stream",
       "stream": "stdout",
       "text": [
        "262 263 "
       ]
      },
      {
       "output_type": "stream",
       "stream": "stdout",
       "text": [
        "264 265 "
       ]
      },
      {
       "output_type": "stream",
       "stream": "stdout",
       "text": [
        "266 267 "
       ]
      },
      {
       "output_type": "stream",
       "stream": "stdout",
       "text": [
        "268 269 "
       ]
      },
      {
       "output_type": "stream",
       "stream": "stdout",
       "text": [
        "270 271 "
       ]
      },
      {
       "output_type": "stream",
       "stream": "stdout",
       "text": [
        "272 273 "
       ]
      },
      {
       "output_type": "stream",
       "stream": "stdout",
       "text": [
        "274 275 "
       ]
      },
      {
       "output_type": "stream",
       "stream": "stdout",
       "text": [
        "276 277 "
       ]
      },
      {
       "output_type": "stream",
       "stream": "stdout",
       "text": [
        "278 279 "
       ]
      },
      {
       "output_type": "stream",
       "stream": "stdout",
       "text": [
        "280 281 "
       ]
      },
      {
       "output_type": "stream",
       "stream": "stdout",
       "text": [
        "282 283 "
       ]
      },
      {
       "output_type": "stream",
       "stream": "stdout",
       "text": [
        "284 285 "
       ]
      },
      {
       "output_type": "stream",
       "stream": "stdout",
       "text": [
        "286 287 "
       ]
      },
      {
       "output_type": "stream",
       "stream": "stdout",
       "text": [
        "288 289 "
       ]
      },
      {
       "output_type": "stream",
       "stream": "stdout",
       "text": [
        "290 291 "
       ]
      },
      {
       "output_type": "stream",
       "stream": "stdout",
       "text": [
        "292 293 "
       ]
      },
      {
       "output_type": "stream",
       "stream": "stdout",
       "text": [
        "294 295 "
       ]
      },
      {
       "output_type": "stream",
       "stream": "stdout",
       "text": [
        "296 297 "
       ]
      },
      {
       "output_type": "stream",
       "stream": "stdout",
       "text": [
        "298 299 "
       ]
      },
      {
       "output_type": "stream",
       "stream": "stdout",
       "text": [
        "300 301 "
       ]
      },
      {
       "output_type": "stream",
       "stream": "stdout",
       "text": [
        "302 303 "
       ]
      },
      {
       "output_type": "stream",
       "stream": "stdout",
       "text": [
        "304 305 "
       ]
      },
      {
       "output_type": "stream",
       "stream": "stdout",
       "text": [
        "306 307 "
       ]
      },
      {
       "output_type": "stream",
       "stream": "stdout",
       "text": [
        "308 309 "
       ]
      },
      {
       "output_type": "stream",
       "stream": "stdout",
       "text": [
        "310 311 "
       ]
      },
      {
       "output_type": "stream",
       "stream": "stdout",
       "text": [
        "312 313 "
       ]
      },
      {
       "output_type": "stream",
       "stream": "stdout",
       "text": [
        "314 315 "
       ]
      },
      {
       "output_type": "stream",
       "stream": "stdout",
       "text": [
        "316 317 "
       ]
      },
      {
       "output_type": "stream",
       "stream": "stdout",
       "text": [
        "318 319 "
       ]
      },
      {
       "output_type": "stream",
       "stream": "stdout",
       "text": [
        "320 321 "
       ]
      },
      {
       "output_type": "stream",
       "stream": "stdout",
       "text": [
        "322 323 "
       ]
      },
      {
       "output_type": "stream",
       "stream": "stdout",
       "text": [
        "324 325 "
       ]
      },
      {
       "output_type": "stream",
       "stream": "stdout",
       "text": [
        "326 327 "
       ]
      },
      {
       "output_type": "stream",
       "stream": "stdout",
       "text": [
        "328 329 "
       ]
      },
      {
       "output_type": "stream",
       "stream": "stdout",
       "text": [
        "330 331 "
       ]
      },
      {
       "output_type": "stream",
       "stream": "stdout",
       "text": [
        "332 333 "
       ]
      },
      {
       "output_type": "stream",
       "stream": "stdout",
       "text": [
        "334 335 "
       ]
      },
      {
       "output_type": "stream",
       "stream": "stdout",
       "text": [
        "336 337 "
       ]
      },
      {
       "output_type": "stream",
       "stream": "stdout",
       "text": [
        "338 339 "
       ]
      },
      {
       "output_type": "stream",
       "stream": "stdout",
       "text": [
        "340 341 "
       ]
      },
      {
       "output_type": "stream",
       "stream": "stdout",
       "text": [
        "342 343 "
       ]
      },
      {
       "output_type": "stream",
       "stream": "stdout",
       "text": [
        "344 345 "
       ]
      },
      {
       "output_type": "stream",
       "stream": "stdout",
       "text": [
        "346 347 "
       ]
      },
      {
       "output_type": "stream",
       "stream": "stdout",
       "text": [
        "348 349 "
       ]
      },
      {
       "output_type": "stream",
       "stream": "stdout",
       "text": [
        "350 351 "
       ]
      },
      {
       "output_type": "stream",
       "stream": "stdout",
       "text": [
        "352 353 "
       ]
      },
      {
       "output_type": "stream",
       "stream": "stdout",
       "text": [
        "354 355 "
       ]
      },
      {
       "output_type": "stream",
       "stream": "stdout",
       "text": [
        "356 357 "
       ]
      },
      {
       "output_type": "stream",
       "stream": "stdout",
       "text": [
        "358 359 "
       ]
      },
      {
       "output_type": "stream",
       "stream": "stdout",
       "text": [
        "360 361 "
       ]
      },
      {
       "output_type": "stream",
       "stream": "stdout",
       "text": [
        "362 363 "
       ]
      },
      {
       "output_type": "stream",
       "stream": "stdout",
       "text": [
        "364 365 "
       ]
      },
      {
       "output_type": "stream",
       "stream": "stdout",
       "text": [
        "366 367 "
       ]
      },
      {
       "output_type": "stream",
       "stream": "stdout",
       "text": [
        "368 369 "
       ]
      },
      {
       "output_type": "stream",
       "stream": "stdout",
       "text": [
        "370 371 "
       ]
      },
      {
       "output_type": "stream",
       "stream": "stdout",
       "text": [
        "372 373 "
       ]
      },
      {
       "output_type": "stream",
       "stream": "stdout",
       "text": [
        "374 375 "
       ]
      },
      {
       "output_type": "stream",
       "stream": "stdout",
       "text": [
        "376 377 "
       ]
      },
      {
       "output_type": "stream",
       "stream": "stdout",
       "text": [
        "378 379 "
       ]
      },
      {
       "output_type": "stream",
       "stream": "stdout",
       "text": [
        "380 381 "
       ]
      },
      {
       "output_type": "stream",
       "stream": "stdout",
       "text": [
        "382 383 "
       ]
      },
      {
       "output_type": "stream",
       "stream": "stdout",
       "text": [
        "384 385 "
       ]
      },
      {
       "output_type": "stream",
       "stream": "stdout",
       "text": [
        "386 387 "
       ]
      },
      {
       "output_type": "stream",
       "stream": "stdout",
       "text": [
        "388 389 "
       ]
      },
      {
       "output_type": "stream",
       "stream": "stdout",
       "text": [
        "390 391 "
       ]
      },
      {
       "output_type": "stream",
       "stream": "stdout",
       "text": [
        "392 393 "
       ]
      },
      {
       "output_type": "stream",
       "stream": "stdout",
       "text": [
        "394 395 "
       ]
      },
      {
       "output_type": "stream",
       "stream": "stdout",
       "text": [
        "396 397 "
       ]
      },
      {
       "output_type": "stream",
       "stream": "stdout",
       "text": [
        "398 399 "
       ]
      },
      {
       "output_type": "stream",
       "stream": "stdout",
       "text": [
        "400 401 "
       ]
      },
      {
       "output_type": "stream",
       "stream": "stdout",
       "text": [
        "402 403 "
       ]
      },
      {
       "output_type": "stream",
       "stream": "stdout",
       "text": [
        "404 405 "
       ]
      },
      {
       "output_type": "stream",
       "stream": "stdout",
       "text": [
        "406 407 "
       ]
      },
      {
       "output_type": "stream",
       "stream": "stdout",
       "text": [
        "408 409 "
       ]
      },
      {
       "output_type": "stream",
       "stream": "stdout",
       "text": [
        "410 411 "
       ]
      },
      {
       "output_type": "stream",
       "stream": "stdout",
       "text": [
        "412 413 "
       ]
      },
      {
       "output_type": "stream",
       "stream": "stdout",
       "text": [
        "414 415 "
       ]
      },
      {
       "output_type": "stream",
       "stream": "stdout",
       "text": [
        "416 417 "
       ]
      },
      {
       "output_type": "stream",
       "stream": "stdout",
       "text": [
        "418 419 "
       ]
      },
      {
       "output_type": "stream",
       "stream": "stdout",
       "text": [
        "420 421 "
       ]
      },
      {
       "output_type": "stream",
       "stream": "stdout",
       "text": [
        "422 423 "
       ]
      },
      {
       "output_type": "stream",
       "stream": "stdout",
       "text": [
        "424 425 "
       ]
      },
      {
       "output_type": "stream",
       "stream": "stdout",
       "text": [
        "426 427 "
       ]
      },
      {
       "output_type": "stream",
       "stream": "stdout",
       "text": [
        "428 429 "
       ]
      },
      {
       "output_type": "stream",
       "stream": "stdout",
       "text": [
        "430 431 "
       ]
      },
      {
       "output_type": "stream",
       "stream": "stdout",
       "text": [
        "432 433 "
       ]
      },
      {
       "output_type": "stream",
       "stream": "stdout",
       "text": [
        "434 435 "
       ]
      },
      {
       "output_type": "stream",
       "stream": "stdout",
       "text": [
        "436 437 "
       ]
      },
      {
       "output_type": "stream",
       "stream": "stdout",
       "text": [
        "438 439 "
       ]
      },
      {
       "output_type": "stream",
       "stream": "stdout",
       "text": [
        "440 441 "
       ]
      },
      {
       "output_type": "stream",
       "stream": "stdout",
       "text": [
        "442 443 "
       ]
      },
      {
       "output_type": "stream",
       "stream": "stdout",
       "text": [
        "444 445 "
       ]
      },
      {
       "output_type": "stream",
       "stream": "stdout",
       "text": [
        "446 447 "
       ]
      },
      {
       "output_type": "stream",
       "stream": "stdout",
       "text": [
        "448 449 "
       ]
      },
      {
       "output_type": "stream",
       "stream": "stdout",
       "text": [
        "450 451 "
       ]
      },
      {
       "output_type": "stream",
       "stream": "stdout",
       "text": [
        "452 453 "
       ]
      },
      {
       "output_type": "stream",
       "stream": "stdout",
       "text": [
        "454 455 "
       ]
      },
      {
       "output_type": "stream",
       "stream": "stdout",
       "text": [
        "456 457 "
       ]
      },
      {
       "output_type": "stream",
       "stream": "stdout",
       "text": [
        "458 459 "
       ]
      },
      {
       "output_type": "stream",
       "stream": "stdout",
       "text": [
        "460 461 "
       ]
      },
      {
       "output_type": "stream",
       "stream": "stdout",
       "text": [
        "462 463 "
       ]
      },
      {
       "output_type": "stream",
       "stream": "stdout",
       "text": [
        "464 465 "
       ]
      },
      {
       "output_type": "stream",
       "stream": "stdout",
       "text": [
        "466 467 "
       ]
      },
      {
       "output_type": "stream",
       "stream": "stdout",
       "text": [
        "468 469 "
       ]
      },
      {
       "output_type": "stream",
       "stream": "stdout",
       "text": [
        "470 471 "
       ]
      },
      {
       "output_type": "stream",
       "stream": "stdout",
       "text": [
        "472 473 "
       ]
      },
      {
       "output_type": "stream",
       "stream": "stdout",
       "text": [
        "474 475 "
       ]
      },
      {
       "output_type": "stream",
       "stream": "stdout",
       "text": [
        "476 477 "
       ]
      },
      {
       "output_type": "stream",
       "stream": "stdout",
       "text": [
        "478 479 "
       ]
      },
      {
       "output_type": "stream",
       "stream": "stdout",
       "text": [
        "480 481 "
       ]
      },
      {
       "output_type": "stream",
       "stream": "stdout",
       "text": [
        "482 483 "
       ]
      },
      {
       "output_type": "stream",
       "stream": "stdout",
       "text": [
        "484 485 "
       ]
      },
      {
       "output_type": "stream",
       "stream": "stdout",
       "text": [
        "486 487 "
       ]
      },
      {
       "output_type": "stream",
       "stream": "stdout",
       "text": [
        "488 489 "
       ]
      },
      {
       "output_type": "stream",
       "stream": "stdout",
       "text": [
        "490 491 "
       ]
      },
      {
       "output_type": "stream",
       "stream": "stdout",
       "text": [
        "492 493 "
       ]
      },
      {
       "output_type": "stream",
       "stream": "stdout",
       "text": [
        "494 495 "
       ]
      },
      {
       "output_type": "stream",
       "stream": "stdout",
       "text": [
        "496 497 "
       ]
      },
      {
       "output_type": "stream",
       "stream": "stdout",
       "text": [
        "498 499 "
       ]
      },
      {
       "metadata": {},
       "output_type": "pyout",
       "prompt_number": 69,
       "text": [
        "<matplotlib.collections.PathCollection at 0x1101e0990>"
       ]
      },
      {
       "metadata": {},
       "output_type": "display_data",
       "png": "[encoded data removed]",
       "text": [
        "<matplotlib.figure.Figure at 0x110093250>"
       ]
      }
     ],
     "prompt_number": "*"
    },
    {
     "cell_type": "code",
     "collapsed": false,
     "input": [
      "with open('r_odd_out.pkl', 'w') as f:\n",
      "    pickle.dump(r_odd_out, f)\n",
      "with open('r_odd_out_err.pkl', 'w') as f:\n",
      "    pickle.dump(r_odd_out_err, f)\n",
      "\n",
      "r_odd_out_err_df = pd.DataFrame(r_odd_out_err)\n",
      "r_odd_out_err_df.columns = ['num_query', 'random_odd']\n",
      "r_odd_df_by_query = r_odd_out_err_df.groupby('num_query')\n",
      "r_odd_df_mean = r_odd_df_by_query.mean()\n",
      "r_odd_df_mean.plot()\n",
      "r_odd_df_median = r_odd_df_by_query.median()"
     ],
     "language": "python",
     "metadata": {},
     "outputs": [
      {
       "metadata": {},
       "output_type": "display_data",
       "png": "[encoded data removed]",
       "text": [
        "<matplotlib.figure.Figure at 0x1102c15d0>"
       ]
      }
     ],
     "prompt_number": "*"
    },
    {
     "cell_type": "code",
     "collapsed": false,
     "input": [
      "all_means = comp_df_mean.join(odd_df_mean).join(r_comp_df_mean).join(r_odd_df_mean)\n",
      "all_means.plot()\n",
      "remove_border()"
     ],
     "language": "python",
     "metadata": {},
     "outputs": [
      {
       "metadata": {},
       "output_type": "display_data",
       "png": "[encoded data removed]",
       "text": [
        "<matplotlib.figure.Figure at 0x10fc94f90>"
       ]
      }
     ],
     "prompt_number": "*"
    },
    {
     "cell_type": "code",
     "collapsed": false,
     "input": [
      "all_medians = comp_df_median.join(odd_df_median).join(r_comp_df_median).join(r_odd_df_median)\n",
      "all_medians.plot()\n",
      "remove_border()"
     ],
     "language": "python",
     "metadata": {},
     "outputs": [
      {
       "metadata": {},
       "output_type": "display_data",
       "png": "[encoded data removed]",
       "text": [
        "<matplotlib.figure.Figure at 0x1102d07d0>"
       ]
      }
     ],
     "prompt_number": "*"
    },
    {
     "cell_type": "code",
     "collapsed": false,
     "input": [
      "comp_sim.M"
     ],
     "language": "python",
     "metadata": {},
     "outputs": [
      {
       "metadata": {},
       "output_type": "pyout",
       "prompt_number": 84,
       "text": [
        "array([[ 0.49147903, -0.87088941],\n",
        "       [ 0.62040043, -0.78428522],\n",
        "       [ 0.88262626, -0.47007541],\n",
        "       [ 0.99503493, -0.09952632],\n",
        "       [ 0.91282125,  0.40835936],\n",
        "       [-0.68398976, -0.72949161],\n",
        "       [-0.96496757, -0.26236919],\n",
        "       [-0.96609081,  0.25820252],\n",
        "       [-0.71248636,  0.70168596],\n",
        "       [-0.6566313 ,  0.75421173]])"
       ]
      }
     ],
     "prompt_number": "*"
    },
    {
     "cell_type": "code",
     "collapsed": false,
     "input": [
      "comp_sim.M[labels == 1,:]"
     ],
     "language": "python",
     "metadata": {},
     "outputs": [
      {
       "ename": "IndexError",
       "evalue": "too many indices",
       "output_type": "pyerr",
       "traceback": [
        "\u001b[0;31m---------------------------------------------------------------------------\u001b[0m\n\u001b[0;31mIndexError\u001b[0m                                Traceback (most recent call last)",
        "\u001b[0;32m<ipython-input-85-bcd939ef5baa>\u001b[0m in \u001b[0;36m<module>\u001b[0;34m()\u001b[0m\n\u001b[0;32m----> 1\u001b[0;31m \u001b[0mcomp_sim\u001b[0m\u001b[0;34m.\u001b[0m\u001b[0mM\u001b[0m\u001b[0;34m[\u001b[0m\u001b[0mlabels\u001b[0m \u001b[0;34m==\u001b[0m \u001b[0;36m1\u001b[0m\u001b[0;34m,\u001b[0m\u001b[0;34m:\u001b[0m\u001b[0;34m]\u001b[0m\u001b[0;34m\u001b[0m\u001b[0m\n\u001b[0m",
        "\u001b[0;31mIndexError\u001b[0m: too many indices"
       ]
      }
     ],
     "prompt_number": "*"
    },
    {
     "cell_type": "code",
     "collapsed": false,
     "input": [
      "def plot_scatter(M, num_items):\n",
      "    div = num_items/3\n",
      "    plt.scatter(M[:div,0], M[:div,1], color='r')\n",
      "    plt.scatter(M[div:2*div,0], M[div:2*div,1], color='g')\n",
      "    plt.scatter(M[2*div:,0], M[2*div:,1], color='b')\n",
      "    remove_border()\n",
      "\n",
      "plot_scatter(comp_sim.M, n)\n",
      "plt.title('Comp_sim 500 queries')\n"
     ],
     "language": "python",
     "metadata": {},
     "outputs": [
      {
       "metadata": {},
       "output_type": "pyout",
       "prompt_number": 93,
       "text": [
        "<matplotlib.text.Text at 0x110a0da10>"
       ]
      },
      {
       "metadata": {},
       "output_type": "display_data",
       "png": "[encoded data removed]",
       "text": [
        "<matplotlib.figure.Figure at 0x110a7d610>"
       ]
      }
     ],
     "prompt_number": "*"
    },
    {
     "cell_type": "code",
     "collapsed": false,
     "input": [
      "plot_scatter(odd_out.M, n)\n",
      "plt.title('odd_out 500 queries')"
     ],
     "language": "python",
     "metadata": {},
     "outputs": [
      {
       "metadata": {},
       "output_type": "pyout",
       "prompt_number": 94,
       "text": [
        "<matplotlib.text.Text at 0x110a14510>"
       ]
      },
      {
       "metadata": {},
       "output_type": "display_data",
       "png": "[encoded data removed]",
       "text": [
        "<matplotlib.figure.Figure at 0x110a02f90>"
       ]
      }
     ],
     "prompt_number": "*"
    },
    {
     "cell_type": "code",
     "collapsed": false,
     "input": [
      "plot_scatter(r_comp_sim.M, n)\n",
      "plt.title('random comp_sim 500 queries')"
     ],
     "language": "python",
     "metadata": {},
     "outputs": [
      {
       "metadata": {},
       "output_type": "pyout",
       "prompt_number": 95,
       "text": [
        "<matplotlib.text.Text at 0x110aa1b50>"
       ]
      },
      {
       "metadata": {},
       "output_type": "display_data",
       "png": "[encoded data removed]",
       "text": [
        "<matplotlib.figure.Figure at 0x1109f52d0>"
       ]
      }
     ],
     "prompt_number": "*"
    },
    {
     "cell_type": "code",
     "collapsed": false,
     "input": [
      "plot_scatter(r_odd_out.M, n)\n",
      "plt.title('random_odd_out 500 queries')"
     ],
     "language": "python",
     "metadata": {},
     "outputs": [
      {
       "metadata": {},
       "output_type": "pyout",
       "prompt_number": 96,
       "text": [
        "<matplotlib.text.Text at 0x110a573d0>"
       ]
      },
      {
       "metadata": {},
       "output_type": "display_data",
       "png": "[encoded data removed]",
       "text": [
        "<matplotlib.figure.Figure at 0x10fa390d0>"
       ]
      }
     ],
     "prompt_number": "*"
    },
    {
     "cell_type": "code",
     "collapsed": false,
     "input": [
      "plot_scatter(r_odd_out.M_true, n)"
     ],
     "language": "python",
     "metadata": {},
     "outputs": [
      {
       "metadata": {},
       "output_type": "display_data",
       "png": "[encoded data removed]",
       "text": [
        "<matplotlib.figure.Figure at 0x1109c04d0>"
       ]
      }
     ],
     "prompt_number": "*"
    }
   ],
   "metadata": {}
  }
 ]
}